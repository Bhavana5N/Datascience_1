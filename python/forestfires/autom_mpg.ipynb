{
 "cells": [
  {
   "cell_type": "code",
   "execution_count": 11,
   "id": "f123e862",
   "metadata": {},
   "outputs": [],
   "source": [
    "from mlxtend.feature_selection import SequentialFeatureSelector as SFS\n",
    "from mlxtend.plotting import plot_sequential_feature_selection as plot_sfs\n",
    "from sklearn.model_selection import cross_val_score\n",
    "from sklearn.model_selection import KFold\n",
    "from sklearn.pipeline import make_pipeline\n",
    "from sklearn.preprocessing import StandardScaler\n",
    "from sklearn.linear_model import LinearRegression\n",
    "from sklearn.preprocessing import PolynomialFeatures\n",
    "from sklearn.linear_model import Lasso\n",
    "from sklearn.linear_model import LassoCV\n",
    "from gplearn.genetic import SymbolicRegressor\n",
    "from sklearn.linear_model import Ridge\n",
    "from sklearn.linear_model import RidgeCV\n",
    "from sklearn.model_selection import RepeatedKFold\n",
    "from sklearn.model_selection import GridSearchCV\n",
    "from sklearn.model_selection import validation_curve\n",
    "from sklearn.metrics import mean_squared_error,r2_score, classification_report, max_error\n",
    "import statsmodels.api as sm\n",
    "import pandas as pd\n",
    "from sklearn.model_selection import train_test_split\n",
    "from sklearn.metrics import mean_squared_error\n",
    "import statsmodels.formula.api as smf\n",
    "import numpy as np\n",
    "import math\n",
    "import warnings\n",
    "import matplotlib.pyplot as plt\n",
    "warnings.filterwarnings ('ignore')\n",
    "import seaborn as sns\n",
    "#adjusted r2 formula\n",
    "\n",
    "crossvalidation = KFold(n_splits=10, random_state=None, shuffle=False)\n",
    "def calculate_adj_r2(r_sq, n, k):\n",
    "\n",
    "    adj_r = 1-((1-r_sq)*(n-1)/(n-k-1))\n",
    "   \n",
    "    return adj_r"
   ]
  },
  {
   "cell_type": "code",
   "execution_count": 5,
   "id": "56143b71",
   "metadata": {},
   "outputs": [
    {
     "name": "stdout",
     "output_type": "stream",
     "text": [
      "Index(['mpg', 'cylinders', 'displacement', 'horsepower', 'weight',\n",
      "       'acceleration', 'model year', 'origin', 'car name'],\n",
      "      dtype='object')\n",
      "Index(['mpg', 'cylinders', 'displacement', 'horsepower', 'weight',\n",
      "       'acceleration', 'model year', 'origin', 'car name'],\n",
      "      dtype='object')\n",
      "2682\n",
      "900\n"
     ]
    }
   ],
   "source": [
    "def LabelEncode(df_local):\n",
    "    for col in df_local.columns:\n",
    "        col_dict = {}\n",
    "        if df_local[col].dtype!='object':\n",
    "            continue\n",
    "        elif df_local[col].dtype=='object':\n",
    "            col2=df_local[col].unique()\n",
    "            z=0\n",
    "            for i in col2:\n",
    "                col_dict[i]=z\n",
    "                z+=1\n",
    "            df_local[col]=df_local[col].map(col_dict)\n",
    "        \n",
    "            \n",
    "    return df_local\n",
    "\n",
    "data=pd.read_csv(\"D:\\\\ds\\\\auto-mpg.csv\")\n",
    "data.head()\n",
    "\n",
    "print(data.columns)\n",
    "data.fillna(0)\n",
    "print(data.columns)\n",
    "df_encode = LabelEncode(data)\n",
    "df_encode.shape\n",
    "\n",
    "X = ['cylinders', 'displacement', 'horsepower', 'weight',\n",
    "       'acceleration', 'model year', 'origin', 'car name' ]\n",
    "Y = ['mpg']\n",
    "X_train, X_test, Y_train, Y_test = train_test_split(df_encode[X],df_encode[Y], test_size=0.25, random_state=42, shuffle=True)\n",
    "df_train=pd.concat([X_train, Y_train], axis=1).reindex(X_train.index)\n",
    "df_test=pd.concat([X_test, Y_test], axis=1).reindex(X_test.index)\n",
    "print(df_train.size)\n",
    "print(df_test.size)\n",
    "\n"
   ]
  },
  {
   "cell_type": "code",
   "execution_count": 12,
   "id": "99a02889",
   "metadata": {},
   "outputs": [
    {
     "name": "stdout",
     "output_type": "stream",
     "text": [
      "<class 'pandas.core.frame.DataFrame'>\n",
      "RangeIndex: 398 entries, 0 to 397\n",
      "Data columns (total 9 columns):\n",
      " #   Column        Non-Null Count  Dtype  \n",
      "---  ------        --------------  -----  \n",
      " 0   mpg           398 non-null    float64\n",
      " 1   cylinders     398 non-null    int64  \n",
      " 2   displacement  398 non-null    float64\n",
      " 3   horsepower    398 non-null    int64  \n",
      " 4   weight        398 non-null    int64  \n",
      " 5   acceleration  398 non-null    float64\n",
      " 6   model year    398 non-null    int64  \n",
      " 7   origin        398 non-null    int64  \n",
      " 8   car name      398 non-null    int64  \n",
      "dtypes: float64(3), int64(6)\n",
      "memory usage: 28.1 KB\n"
     ]
    },
    {
     "data": {
      "text/html": [
       "<div>\n",
       "<style scoped>\n",
       "    .dataframe tbody tr th:only-of-type {\n",
       "        vertical-align: middle;\n",
       "    }\n",
       "\n",
       "    .dataframe tbody tr th {\n",
       "        vertical-align: top;\n",
       "    }\n",
       "\n",
       "    .dataframe thead th {\n",
       "        text-align: right;\n",
       "    }\n",
       "</style>\n",
       "<table border=\"1\" class=\"dataframe\">\n",
       "  <thead>\n",
       "    <tr style=\"text-align: right;\">\n",
       "      <th></th>\n",
       "      <th>mpg</th>\n",
       "      <th>cylinders</th>\n",
       "      <th>displacement</th>\n",
       "      <th>horsepower</th>\n",
       "      <th>weight</th>\n",
       "      <th>acceleration</th>\n",
       "      <th>model year</th>\n",
       "      <th>origin</th>\n",
       "      <th>car name</th>\n",
       "    </tr>\n",
       "  </thead>\n",
       "  <tbody>\n",
       "    <tr>\n",
       "      <th>count</th>\n",
       "      <td>398.000000</td>\n",
       "      <td>398.000000</td>\n",
       "      <td>398.000000</td>\n",
       "      <td>398.000000</td>\n",
       "      <td>398.000000</td>\n",
       "      <td>398.000000</td>\n",
       "      <td>398.000000</td>\n",
       "      <td>398.000000</td>\n",
       "      <td>398.000000</td>\n",
       "    </tr>\n",
       "    <tr>\n",
       "      <th>mean</th>\n",
       "      <td>23.514573</td>\n",
       "      <td>5.454774</td>\n",
       "      <td>193.425879</td>\n",
       "      <td>34.193467</td>\n",
       "      <td>2970.424623</td>\n",
       "      <td>15.568090</td>\n",
       "      <td>76.010050</td>\n",
       "      <td>1.572864</td>\n",
       "      <td>135.776382</td>\n",
       "    </tr>\n",
       "    <tr>\n",
       "      <th>std</th>\n",
       "      <td>7.815984</td>\n",
       "      <td>1.701004</td>\n",
       "      <td>104.269838</td>\n",
       "      <td>24.397738</td>\n",
       "      <td>846.841774</td>\n",
       "      <td>2.757689</td>\n",
       "      <td>3.697627</td>\n",
       "      <td>0.802055</td>\n",
       "      <td>89.114382</td>\n",
       "    </tr>\n",
       "    <tr>\n",
       "      <th>min</th>\n",
       "      <td>9.000000</td>\n",
       "      <td>3.000000</td>\n",
       "      <td>68.000000</td>\n",
       "      <td>0.000000</td>\n",
       "      <td>1613.000000</td>\n",
       "      <td>8.000000</td>\n",
       "      <td>70.000000</td>\n",
       "      <td>1.000000</td>\n",
       "      <td>0.000000</td>\n",
       "    </tr>\n",
       "    <tr>\n",
       "      <th>25%</th>\n",
       "      <td>17.500000</td>\n",
       "      <td>4.000000</td>\n",
       "      <td>104.250000</td>\n",
       "      <td>14.000000</td>\n",
       "      <td>2223.750000</td>\n",
       "      <td>13.825000</td>\n",
       "      <td>73.000000</td>\n",
       "      <td>1.000000</td>\n",
       "      <td>55.250000</td>\n",
       "    </tr>\n",
       "    <tr>\n",
       "      <th>50%</th>\n",
       "      <td>23.000000</td>\n",
       "      <td>4.000000</td>\n",
       "      <td>148.500000</td>\n",
       "      <td>28.000000</td>\n",
       "      <td>2803.500000</td>\n",
       "      <td>15.500000</td>\n",
       "      <td>76.000000</td>\n",
       "      <td>1.000000</td>\n",
       "      <td>128.500000</td>\n",
       "    </tr>\n",
       "    <tr>\n",
       "      <th>75%</th>\n",
       "      <td>29.000000</td>\n",
       "      <td>8.000000</td>\n",
       "      <td>262.000000</td>\n",
       "      <td>53.000000</td>\n",
       "      <td>3608.000000</td>\n",
       "      <td>17.175000</td>\n",
       "      <td>79.000000</td>\n",
       "      <td>2.000000</td>\n",
       "      <td>211.750000</td>\n",
       "    </tr>\n",
       "    <tr>\n",
       "      <th>max</th>\n",
       "      <td>46.600000</td>\n",
       "      <td>8.000000</td>\n",
       "      <td>455.000000</td>\n",
       "      <td>93.000000</td>\n",
       "      <td>5140.000000</td>\n",
       "      <td>24.800000</td>\n",
       "      <td>82.000000</td>\n",
       "      <td>3.000000</td>\n",
       "      <td>304.000000</td>\n",
       "    </tr>\n",
       "  </tbody>\n",
       "</table>\n",
       "</div>"
      ],
      "text/plain": [
       "              mpg   cylinders  displacement  horsepower       weight  \\\n",
       "count  398.000000  398.000000    398.000000  398.000000   398.000000   \n",
       "mean    23.514573    5.454774    193.425879   34.193467  2970.424623   \n",
       "std      7.815984    1.701004    104.269838   24.397738   846.841774   \n",
       "min      9.000000    3.000000     68.000000    0.000000  1613.000000   \n",
       "25%     17.500000    4.000000    104.250000   14.000000  2223.750000   \n",
       "50%     23.000000    4.000000    148.500000   28.000000  2803.500000   \n",
       "75%     29.000000    8.000000    262.000000   53.000000  3608.000000   \n",
       "max     46.600000    8.000000    455.000000   93.000000  5140.000000   \n",
       "\n",
       "       acceleration  model year      origin    car name  \n",
       "count    398.000000  398.000000  398.000000  398.000000  \n",
       "mean      15.568090   76.010050    1.572864  135.776382  \n",
       "std        2.757689    3.697627    0.802055   89.114382  \n",
       "min        8.000000   70.000000    1.000000    0.000000  \n",
       "25%       13.825000   73.000000    1.000000   55.250000  \n",
       "50%       15.500000   76.000000    1.000000  128.500000  \n",
       "75%       17.175000   79.000000    2.000000  211.750000  \n",
       "max       24.800000   82.000000    3.000000  304.000000  "
      ]
     },
     "execution_count": 12,
     "metadata": {},
     "output_type": "execute_result"
    }
   ],
   "source": [
    "\n",
    "data.info()\n",
    "data.describe()"
   ]
  },
  {
   "cell_type": "code",
   "execution_count": 6,
   "id": "e650ec0c",
   "metadata": {},
   "outputs": [
    {
     "data": {
      "image/png": "[encoded data removed]",
      "text/plain": [
       "<Figure size 432x288 with 1 Axes>"
      ]
     },
     "metadata": {
      "needs_background": "light"
     },
     "output_type": "display_data"
    },
    {
     "data": {
      "image/png": "[encoded data removed]",
      "text/plain": [
       "<Figure size 432x288 with 1 Axes>"
      ]
     },
     "metadata": {
      "needs_background": "light"
     },
     "output_type": "display_data"
    },
    {
     "data": {
      "image/png": "[encoded data removed]",
      "text/plain": [
       "<Figure size 432x288 with 1 Axes>"
      ]
     },
     "metadata": {
      "needs_background": "light"
     },
     "output_type": "display_data"
    },
    {
     "data": {
      "image/png": "[encoded data removed]",
      "text/plain": [
       "<Figure size 432x288 with 1 Axes>"
      ]
     },
     "metadata": {
      "needs_background": "light"
     },
     "output_type": "display_data"
    },
    {
     "data": {
      "image/png": "[encoded data removed]",
      "text/plain": [
       "<Figure size 432x288 with 1 Axes>"
      ]
     },
     "metadata": {
      "needs_background": "light"
     },
     "output_type": "display_data"
    },
    {
     "data": {
      "image/png": "[encoded data removed]",
      "text/plain": [
       "<Figure size 432x288 with 1 Axes>"
      ]
     },
     "metadata": {
      "needs_background": "light"
     },
     "output_type": "display_data"
    },
    {
     "data": {
      "image/png": "[encoded data removed]",
      "text/plain": [
       "<Figure size 432x288 with 1 Axes>"
      ]
     },
     "metadata": {
      "needs_background": "light"
     },
     "output_type": "display_data"
    },
    {
     "data": {
      "image/png": "[encoded data removed]",
      "text/plain": [
       "<Figure size 432x288 with 1 Axes>"
      ]
     },
     "metadata": {
      "needs_background": "light"
     },
     "output_type": "display_data"
    }
   ],
   "source": [
    "for i in X:\n",
    "    plt.scatter(x=data[i], y=data[Y])\n",
    "    plt.xlabel(i)\n",
    "    plt.ylabel(Y[0])\n",
    "    plt.show()"
   ]
  },
  {
   "cell_type": "code",
   "execution_count": 14,
   "id": "3d923c2e",
   "metadata": {},
   "outputs": [
    {
     "name": "stderr",
     "output_type": "stream",
     "text": [
      "[Parallel(n_jobs=1)]: Using backend SequentialBackend with 1 concurrent workers.\n",
      "[Parallel(n_jobs=1)]: Done   1 out of   1 | elapsed:    0.0s remaining:    0.0s\n",
      "[Parallel(n_jobs=1)]: Done   8 out of   8 | elapsed:    0.0s finished\n",
      "\n",
      "[2022-02-20 17:33:15] Features: 1/8 -- score: 0.6716128029565731[Parallel(n_jobs=1)]: Using backend SequentialBackend with 1 concurrent workers.\n",
      "[Parallel(n_jobs=1)]: Done   1 out of   1 | elapsed:    0.0s remaining:    0.0s\n",
      "[Parallel(n_jobs=1)]: Done   7 out of   7 | elapsed:    0.0s finished\n",
      "\n",
      "[2022-02-20 17:33:15] Features: 2/8 -- score: 0.7947123435236452[Parallel(n_jobs=1)]: Using backend SequentialBackend with 1 concurrent workers.\n",
      "[Parallel(n_jobs=1)]: Done   1 out of   1 | elapsed:    0.0s remaining:    0.0s\n",
      "[Parallel(n_jobs=1)]: Done   6 out of   6 | elapsed:    0.0s finished\n",
      "\n",
      "[2022-02-20 17:33:15] Features: 3/8 -- score: 0.8016951001447611[Parallel(n_jobs=1)]: Using backend SequentialBackend with 1 concurrent workers.\n",
      "[Parallel(n_jobs=1)]: Done   1 out of   1 | elapsed:    0.0s remaining:    0.0s\n",
      "[Parallel(n_jobs=1)]: Done   5 out of   5 | elapsed:    0.0s finished\n",
      "\n",
      "[2022-02-20 17:33:15] Features: 4/8 -- score: 0.8013028755179692[Parallel(n_jobs=1)]: Using backend SequentialBackend with 1 concurrent workers.\n",
      "[Parallel(n_jobs=1)]: Done   1 out of   1 | elapsed:    0.0s remaining:    0.0s\n",
      "[Parallel(n_jobs=1)]: Done   4 out of   4 | elapsed:    0.0s finished\n",
      "\n",
      "[2022-02-20 17:33:15] Features: 5/8 -- score: 0.8003815033749418[Parallel(n_jobs=1)]: Using backend SequentialBackend with 1 concurrent workers.\n",
      "[Parallel(n_jobs=1)]: Done   1 out of   1 | elapsed:    0.0s remaining:    0.0s\n",
      "[Parallel(n_jobs=1)]: Done   3 out of   3 | elapsed:    0.0s finished\n",
      "\n",
      "[2022-02-20 17:33:15] Features: 6/8 -- score: 0.7990787923874437[Parallel(n_jobs=1)]: Using backend SequentialBackend with 1 concurrent workers.\n"
     ]
    },
    {
     "name": "stdout",
     "output_type": "stream",
     "text": [
      "                feature_idx  \\\n",
      "1                      (3,)   \n",
      "2                    (3, 5)   \n",
      "3                 (3, 5, 6)   \n",
      "4              (3, 5, 6, 7)   \n",
      "5           (0, 3, 5, 6, 7)   \n",
      "6        (0, 3, 4, 5, 6, 7)   \n",
      "7     (0, 1, 3, 4, 5, 6, 7)   \n",
      "8  (0, 1, 2, 3, 4, 5, 6, 7)   \n",
      "\n",
      "                                           cv_scores avg_score  \\\n",
      "1  [0.6650693023062961, 0.6445742886755507, 0.689...  0.671613   \n",
      "2  [0.8191235813490513, 0.7753747031085079, 0.789...  0.794712   \n",
      "3  [0.8173740710898953, 0.7973197386084644, 0.806...  0.801695   \n",
      "4  [0.8163515623936648, 0.7989645441426639, 0.807...  0.801303   \n",
      "5  [0.8165560683186123, 0.7987575135757666, 0.807...  0.800382   \n",
      "6  [0.8109765706691161, 0.8010863484628207, 0.809...  0.799079   \n",
      "7  [0.813472838084199, 0.7983604985649788, 0.8113...  0.797949   \n",
      "8  [0.8031182534359832, 0.7963233192521901, 0.811...  0.792756   \n",
      "\n",
      "                                       feature_names  ci_bound   std_dev  \\\n",
      "1                                          (weight,)  0.030507  0.023735   \n",
      "2                               (weight, model year)  0.018546   0.01443   \n",
      "3                       (weight, model year, origin)  0.024246  0.018864   \n",
      "4             (weight, model year, origin, car name)  0.022769  0.017715   \n",
      "5  (cylinders, weight, model year, origin, car name)  0.025221  0.019623   \n",
      "6  (cylinders, weight, acceleration, model year, ...   0.02185     0.017   \n",
      "7  (cylinders, displacement, weight, acceleration...  0.027116  0.021098   \n",
      "8  (cylinders, displacement, horsepower, weight, ...  0.026708   0.02078   \n",
      "\n",
      "    std_err  \n",
      "1  0.011868  \n",
      "2  0.007215  \n",
      "3  0.009432  \n",
      "4  0.008858  \n",
      "5  0.009811  \n",
      "6    0.0085  \n",
      "7  0.010549  \n",
      "8   0.01039  \n"
     ]
    },
    {
     "name": "stderr",
     "output_type": "stream",
     "text": [
      "[Parallel(n_jobs=1)]: Done   1 out of   1 | elapsed:    0.0s remaining:    0.0s\n",
      "[Parallel(n_jobs=1)]: Done   2 out of   2 | elapsed:    0.0s finished\n",
      "\n",
      "[2022-02-20 17:33:15] Features: 7/8 -- score: 0.7979491872540632[Parallel(n_jobs=1)]: Using backend SequentialBackend with 1 concurrent workers.\n",
      "[Parallel(n_jobs=1)]: Done   1 out of   1 | elapsed:    0.0s remaining:    0.0s\n",
      "[Parallel(n_jobs=1)]: Done   1 out of   1 | elapsed:    0.0s finished\n",
      "\n",
      "[2022-02-20 17:33:15] Features: 8/8 -- score: 0.7927561093693065"
     ]
    },
    {
     "data": {
      "image/png": "[encoded data removed]",
      "text/plain": [
       "<Figure size 432x288 with 1 Axes>"
      ]
     },
     "metadata": {
      "needs_background": "light"
     },
     "output_type": "display_data"
    }
   ],
   "source": [
    "regr = LinearRegression()\n",
    "\n",
    "\n",
    "#Forward Selection\n",
    "sfs_f = SFS(regr, \n",
    "           k_features='best', \n",
    "           forward=True, \n",
    "           floating=False, \n",
    "           verbose=2,\n",
    "           scoring='r2',\n",
    "           cv=5)\n",
    "sfs_f.fit(df_train[X], df_train[Y])\n",
    "print(pd.DataFrame.from_dict(sfs_f.get_metric_dict()).T)\n",
    "pd.DataFrame.from_dict(sfs_f.get_metric_dict()).T\n",
    "\n",
    "fig1 = plot_sfs(sfs_f.get_metric_dict(), kind='std_dev')\n",
    "\n",
    "plt.ylim([0, 1])\n",
    "plt.title('Sequential Forward Selection (w. StdDev)')\n",
    "plt.grid()\n",
    "plt.show()"
   ]
  },
  {
   "cell_type": "code",
   "execution_count": 16,
   "id": "1919b64b",
   "metadata": {},
   "outputs": [
    {
     "name": "stdout",
     "output_type": "stream",
     "text": [
      "\n",
      "Sequential Forward Selection best:\n",
      "(3, 5, 6)\n",
      "CV Score:\n",
      "0.8016951001447611\n",
      "('weight', 'model year', 'origin')\n"
     ]
    }
   ],
   "source": [
    "print('\\nSequential Forward Selection best:')\n",
    "print(sfs_f.k_feature_idx_)\n",
    "print('CV Score:')\n",
    "print(sfs_f.k_score_)\n",
    "print(sfs1.k_feature_names_)"
   ]
  },
  {
   "cell_type": "code",
   "execution_count": 8,
   "id": "3acb1986",
   "metadata": {},
   "outputs": [
    {
     "name": "stderr",
     "output_type": "stream",
     "text": [
      "[Parallel(n_jobs=1)]: Using backend SequentialBackend with 1 concurrent workers.\n",
      "[Parallel(n_jobs=1)]: Done   1 out of   1 | elapsed:    0.0s remaining:    0.0s\n",
      "[Parallel(n_jobs=1)]: Done   8 out of   8 | elapsed:    0.1s finished\n",
      "\n",
      "[2022-02-20 17:29:14] Features: 7/1 -- score: -2.656641743487083[Parallel(n_jobs=1)]: Using backend SequentialBackend with 1 concurrent workers.\n",
      "[Parallel(n_jobs=1)]: Done   1 out of   1 | elapsed:    0.0s remaining:    0.0s\n",
      "[Parallel(n_jobs=1)]: Done   7 out of   7 | elapsed:    0.0s finished\n",
      "\n",
      "[2022-02-20 17:29:15] Features: 6/1 -- score: -2.636291458429473[Parallel(n_jobs=1)]: Using backend SequentialBackend with 1 concurrent workers.\n",
      "[Parallel(n_jobs=1)]: Done   1 out of   1 | elapsed:    0.0s remaining:    0.0s\n",
      "[Parallel(n_jobs=1)]: Done   6 out of   6 | elapsed:    0.0s finished\n",
      "\n",
      "[2022-02-20 17:29:15] Features: 5/1 -- score: -2.62848473515149[Parallel(n_jobs=1)]: Using backend SequentialBackend with 1 concurrent workers.\n",
      "[Parallel(n_jobs=1)]: Done   1 out of   1 | elapsed:    0.0s remaining:    0.0s\n"
     ]
    },
    {
     "name": "stdout",
     "output_type": "stream",
     "text": [
      "                feature_idx  \\\n",
      "8  (0, 1, 2, 3, 4, 5, 6, 7)   \n",
      "7     (0, 1, 3, 4, 5, 6, 7)   \n",
      "6        (0, 1, 3, 5, 6, 7)   \n",
      "5           (0, 3, 5, 6, 7)   \n",
      "4              (3, 5, 6, 7)   \n",
      "3                 (3, 5, 6)   \n",
      "2                    (3, 5)   \n",
      "1                      (3,)   \n",
      "\n",
      "                                           cv_scores avg_score  \\\n",
      "8  [-2.666462249687211, -2.424736325039902, -2.77... -2.699093   \n",
      "7  [-2.580378821322247, -2.4165204666185085, -2.7... -2.656642   \n",
      "6  [-2.533546593410863, -2.4475533905080953, -2.7... -2.636291   \n",
      "5  [-2.535874799793527, -2.4604895789590957, -2.7... -2.628485   \n",
      "4  [-2.5375418373310983, -2.443777386456624, -2.7... -2.616764   \n",
      "3  [-2.522993628712962, -2.448584761729632, -2.77... -2.622611   \n",
      "2  [-2.5609976552815725, -2.607557102116329, -2.9... -2.721083   \n",
      "1  [-3.476020109793365, -3.1540777267216957, -3.6... -3.358174   \n",
      "\n",
      "                                       feature_names  ci_bound   std_dev  \\\n",
      "8  (cylinders, displacement, horsepower, weight, ...  0.273218  0.212573   \n",
      "7  (cylinders, displacement, weight, acceleration...  0.286871  0.223195   \n",
      "6  (cylinders, displacement, weight, model year, ...  0.284027  0.220982   \n",
      "5  (cylinders, weight, model year, origin, car name)    0.2605  0.202678   \n",
      "4             (weight, model year, origin, car name)  0.245514  0.191019   \n",
      "3                       (weight, model year, origin)  0.256184   0.19932   \n",
      "2                               (weight, model year)  0.242428  0.188617   \n",
      "1                                          (weight,)  0.438517  0.341181   \n",
      "\n",
      "    std_err  \n",
      "8  0.106287  \n",
      "7  0.111598  \n",
      "6  0.110491  \n",
      "5  0.101339  \n",
      "4  0.095509  \n",
      "3   0.09966  \n",
      "2  0.094309  \n",
      "1  0.170591  \n"
     ]
    },
    {
     "name": "stderr",
     "output_type": "stream",
     "text": [
      "[Parallel(n_jobs=1)]: Done   5 out of   5 | elapsed:    0.0s finished\n",
      "\n",
      "[2022-02-20 17:29:15] Features: 4/1 -- score: -2.6167635559602562[Parallel(n_jobs=1)]: Using backend SequentialBackend with 1 concurrent workers.\n",
      "[Parallel(n_jobs=1)]: Done   1 out of   1 | elapsed:    0.0s remaining:    0.0s\n",
      "[Parallel(n_jobs=1)]: Done   4 out of   4 | elapsed:    0.0s finished\n",
      "\n",
      "[2022-02-20 17:29:15] Features: 3/1 -- score: -2.622610580054023[Parallel(n_jobs=1)]: Using backend SequentialBackend with 1 concurrent workers.\n",
      "[Parallel(n_jobs=1)]: Done   1 out of   1 | elapsed:    0.0s remaining:    0.0s\n",
      "[Parallel(n_jobs=1)]: Done   3 out of   3 | elapsed:    0.0s finished\n",
      "\n",
      "[2022-02-20 17:29:15] Features: 2/1 -- score: -2.7210826204925906[Parallel(n_jobs=1)]: Using backend SequentialBackend with 1 concurrent workers.\n",
      "[Parallel(n_jobs=1)]: Done   1 out of   1 | elapsed:    0.0s remaining:    0.0s\n",
      "[Parallel(n_jobs=1)]: Done   2 out of   2 | elapsed:    0.0s finished\n",
      "\n",
      "[2022-02-20 17:29:15] Features: 1/1 -- score: -3.3581739953598535"
     ]
    }
   ],
   "source": [
    "#BackWard Selection\n",
    "sfs2 = SFS(regr, \n",
    "           k_features='best', \n",
    "           forward=False, \n",
    "           floating=False, \n",
    "           verbose=2,\n",
    "           scoring='neg_mean_absolute_error',\n",
    "           cv=5)\n",
    "sfs2.fit(df_train[X], df_train[Y])\n",
    "\n",
    "print(pd.DataFrame.from_dict(sfs2.get_metric_dict()).T)"
   ]
  },
  {
   "cell_type": "code",
   "execution_count": 9,
   "id": "e6c78ae2",
   "metadata": {},
   "outputs": [
    {
     "name": "stderr",
     "output_type": "stream",
     "text": [
      "[Parallel(n_jobs=1)]: Using backend SequentialBackend with 1 concurrent workers.\n",
      "[Parallel(n_jobs=1)]: Done   1 out of   1 | elapsed:    0.0s remaining:    0.0s\n",
      "[Parallel(n_jobs=1)]: Done   8 out of   8 | elapsed:    0.0s finished\n",
      "\n",
      "[2022-02-20 17:29:24] Features: 1/8 -- score: -3.3581739953598535[Parallel(n_jobs=1)]: Using backend SequentialBackend with 1 concurrent workers.\n",
      "[Parallel(n_jobs=1)]: Done   1 out of   1 | elapsed:    0.0s remaining:    0.0s\n",
      "[Parallel(n_jobs=1)]: Done   7 out of   7 | elapsed:    0.0s finished\n",
      "[Parallel(n_jobs=1)]: Using backend SequentialBackend with 1 concurrent workers.\n",
      "[Parallel(n_jobs=1)]: Done   1 out of   1 | elapsed:    0.0s remaining:    0.0s\n",
      "[Parallel(n_jobs=1)]: Done   1 out of   1 | elapsed:    0.0s finished\n",
      "\n",
      "[2022-02-20 17:29:24] Features: 2/8 -- score: -2.7210826204925906[Parallel(n_jobs=1)]: Using backend SequentialBackend with 1 concurrent workers.\n",
      "[Parallel(n_jobs=1)]: Done   1 out of   1 | elapsed:    0.0s remaining:    0.0s\n",
      "[Parallel(n_jobs=1)]: Done   6 out of   6 | elapsed:    0.0s finished\n",
      "[Parallel(n_jobs=1)]: Using backend SequentialBackend with 1 concurrent workers.\n",
      "[Parallel(n_jobs=1)]: Done   1 out of   1 | elapsed:    0.0s remaining:    0.0s\n",
      "[Parallel(n_jobs=1)]: Done   2 out of   2 | elapsed:    0.0s finished\n",
      "\n",
      "[2022-02-20 17:29:24] Features: 3/8 -- score: -2.622610580054023[Parallel(n_jobs=1)]: Using backend SequentialBackend with 1 concurrent workers.\n",
      "[Parallel(n_jobs=1)]: Done   1 out of   1 | elapsed:    0.0s remaining:    0.0s\n",
      "[Parallel(n_jobs=1)]: Done   5 out of   5 | elapsed:    0.0s finished\n",
      "[Parallel(n_jobs=1)]: Using backend SequentialBackend with 1 concurrent workers.\n",
      "[Parallel(n_jobs=1)]: Done   1 out of   1 | elapsed:    0.0s remaining:    0.0s\n",
      "[Parallel(n_jobs=1)]: Done   3 out of   3 | elapsed:    0.0s finished\n",
      "\n",
      "[2022-02-20 17:29:24] Features: 4/8 -- score: -2.6167635559602562[Parallel(n_jobs=1)]: Using backend SequentialBackend with 1 concurrent workers.\n",
      "[Parallel(n_jobs=1)]: Done   1 out of   1 | elapsed:    0.0s remaining:    0.0s\n",
      "[Parallel(n_jobs=1)]: Done   4 out of   4 | elapsed:    0.0s finished\n",
      "[Parallel(n_jobs=1)]: Using backend SequentialBackend with 1 concurrent workers.\n",
      "[Parallel(n_jobs=1)]: Done   1 out of   1 | elapsed:    0.0s remaining:    0.0s\n",
      "[Parallel(n_jobs=1)]: Done   4 out of   4 | elapsed:    0.0s finished\n",
      "\n",
      "[2022-02-20 17:29:24] Features: 5/8 -- score: -2.62848473515149[Parallel(n_jobs=1)]: Using backend SequentialBackend with 1 concurrent workers.\n",
      "[Parallel(n_jobs=1)]: Done   1 out of   1 | elapsed:    0.0s remaining:    0.0s\n",
      "[Parallel(n_jobs=1)]: Done   3 out of   3 | elapsed:    0.0s finished\n",
      "[Parallel(n_jobs=1)]: Using backend SequentialBackend with 1 concurrent workers.\n",
      "[Parallel(n_jobs=1)]: Done   1 out of   1 | elapsed:    0.0s remaining:    0.0s\n",
      "[Parallel(n_jobs=1)]: Done   5 out of   5 | elapsed:    0.0s finished\n",
      "\n",
      "[2022-02-20 17:29:24] Features: 6/8 -- score: -2.636291458429473[Parallel(n_jobs=1)]: Using backend SequentialBackend with 1 concurrent workers.\n",
      "[Parallel(n_jobs=1)]: Done   1 out of   1 | elapsed:    0.0s remaining:    0.0s\n",
      "[Parallel(n_jobs=1)]: Done   2 out of   2 | elapsed:    0.0s finished\n",
      "[Parallel(n_jobs=1)]: Using backend SequentialBackend with 1 concurrent workers.\n",
      "[Parallel(n_jobs=1)]: Done   1 out of   1 | elapsed:    0.0s remaining:    0.0s\n",
      "[Parallel(n_jobs=1)]: Done   6 out of   6 | elapsed:    0.0s finished\n",
      "\n",
      "[2022-02-20 17:29:25] Features: 7/8 -- score: -2.656641743487083[Parallel(n_jobs=1)]: Using backend SequentialBackend with 1 concurrent workers.\n"
     ]
    },
    {
     "name": "stdout",
     "output_type": "stream",
     "text": [
      "                feature_idx  \\\n",
      "1                      (3,)   \n",
      "2                    (3, 5)   \n",
      "3                 (3, 5, 6)   \n",
      "4              (3, 5, 6, 7)   \n",
      "5           (0, 3, 5, 6, 7)   \n",
      "6        (0, 1, 3, 5, 6, 7)   \n",
      "7     (0, 1, 3, 4, 5, 6, 7)   \n",
      "8  (0, 1, 2, 3, 4, 5, 6, 7)   \n",
      "\n",
      "                                           cv_scores avg_score  \\\n",
      "1  [-3.476020109793365, -3.1540777267216957, -3.6... -3.358174   \n",
      "2  [-2.5609976552815725, -2.607557102116329, -2.9... -2.721083   \n",
      "3  [-2.522993628712962, -2.448584761729632, -2.77... -2.622611   \n",
      "4  [-2.5375418373310983, -2.443777386456624, -2.7... -2.616764   \n",
      "5  [-2.535874799793527, -2.4604895789590957, -2.7... -2.628485   \n",
      "6  [-2.533546593410863, -2.4475533905080953, -2.7... -2.636291   \n",
      "7  [-2.580378821322247, -2.4165204666185085, -2.7... -2.656642   \n",
      "8  [-2.666462249687211, -2.424736325039902, -2.77... -2.699093   \n",
      "\n",
      "                                       feature_names  ci_bound   std_dev  \\\n",
      "1                                          (weight,)  0.438517  0.341181   \n",
      "2                               (weight, model year)  0.242428  0.188617   \n",
      "3                       (weight, model year, origin)  0.256184   0.19932   \n",
      "4             (weight, model year, origin, car name)  0.245514  0.191019   \n",
      "5  (cylinders, weight, model year, origin, car name)    0.2605  0.202678   \n",
      "6  (cylinders, displacement, weight, model year, ...  0.284027  0.220982   \n",
      "7  (cylinders, displacement, weight, acceleration...  0.286871  0.223195   \n",
      "8  (cylinders, displacement, horsepower, weight, ...  0.273218  0.212573   \n",
      "\n",
      "    std_err  \n",
      "1  0.170591  \n",
      "2  0.094309  \n",
      "3   0.09966  \n",
      "4  0.095509  \n",
      "5  0.101339  \n",
      "6  0.110491  \n",
      "7  0.111598  \n",
      "8  0.106287  \n"
     ]
    },
    {
     "name": "stderr",
     "output_type": "stream",
     "text": [
      "[Parallel(n_jobs=1)]: Done   1 out of   1 | elapsed:    0.0s remaining:    0.0s\n",
      "[Parallel(n_jobs=1)]: Done   1 out of   1 | elapsed:    0.0s finished\n",
      "[Parallel(n_jobs=1)]: Using backend SequentialBackend with 1 concurrent workers.\n",
      "[Parallel(n_jobs=1)]: Done   1 out of   1 | elapsed:    0.0s remaining:    0.0s\n",
      "[Parallel(n_jobs=1)]: Done   7 out of   7 | elapsed:    0.0s finished\n",
      "\n",
      "[2022-02-20 17:29:25] Features: 8/8 -- score: -2.69909252990401"
     ]
    }
   ],
   "source": [
    "#StepWise Selection\n",
    "sfs2 = SFS(regr, \n",
    "           k_features='best', \n",
    "           forward=True, \n",
    "           floating=True, \n",
    "           verbose=2,\n",
    "           scoring='neg_mean_absolute_error',\n",
    "           cv=5)\n",
    "sfs2.fit(df_train[X], df_train[Y])\n",
    "\n",
    "print(pd.DataFrame.from_dict(sfs2.get_metric_dict()).T)"
   ]
  },
  {
   "cell_type": "code",
   "execution_count": 17,
   "id": "38dea5b1",
   "metadata": {},
   "outputs": [
    {
     "name": "stdout",
     "output_type": "stream",
     "text": [
      "1192\n",
      "400\n"
     ]
    }
   ],
   "source": [
    "X=['weight', 'model year', 'origin']\n",
    "Y = ['mpg']\n",
    "X_train, X_test, Y_train, Y_test = train_test_split(df_encode[X],df_encode[Y], test_size=0.25, random_state=42, shuffle=True)\n",
    "df_train=pd.concat([X_train, Y_train], axis=1).reindex(X_train.index)\n",
    "df_test=pd.concat([X_test, Y_test], axis=1).reindex(X_test.index)\n",
    "print(df_train.size)\n",
    "print(df_test.size)"
   ]
  },
  {
   "cell_type": "code",
   "execution_count": 18,
   "id": "0a3e6b3f",
   "metadata": {},
   "outputs": [
    {
     "name": "stdout",
     "output_type": "stream",
     "text": [
      "R2 0.8857505723869155\n",
      "Adj R2 0.8821802777740065\n",
      "8.519434954376095\n"
     ]
    }
   ],
   "source": [
    "\n",
    " \n",
    "poly = PolynomialFeatures(degree = 2)\n",
    "X_poly = poly.fit_transform(X_train)\n",
    " \n",
    "poly.fit(X_poly, Y_train)\n",
    "lin2 = LinearRegression()\n",
    "lin2.fit(X_poly, Y_train)\n",
    "Y_Pred= lin2.predict(poly.fit_transform(X_test))\n",
    "x=r2_score(Y_test, Y_Pred)\n",
    "print(\"R2\",x)\n",
    "adjusted_r2 = calculate_adj_r2(x, X_test.count()[0],len(X))\n",
    "print(\"Adj R2\",adjusted_r2)\n",
    "print(max_error(Y_test, Y_Pred))\n",
    "\n",
    "\n",
    "\n"
   ]
  },
  {
   "cell_type": "code",
   "execution_count": 19,
   "id": "00d33459",
   "metadata": {},
   "outputs": [
    {
     "name": "stdout",
     "output_type": "stream",
     "text": [
      "R2 0.8350774853140814\n",
      "Adj R2 0.8299236567301465\n",
      "Folds: 10, MSE: 0.800859445012397, STD: 0.057176675119957936\n"
     ]
    }
   ],
   "source": [
    "linear_regr = LinearRegression().fit(X_train, Y_train)\n",
    "\n",
    "Y_Pred= linear_regr.predict(X_test)\n",
    "\n",
    "\n",
    "x=r2_score(Y_test, Y_Pred)\n",
    "print(\"R2\",x)\n",
    "adjusted_r2 = calculate_adj_r2(x, X_test.count()[0],len(X))\n",
    "print(\"Adj R2\",adjusted_r2)\n",
    "\n",
    "\n",
    "scores = cross_val_score(linear_regr, X_train, Y_train , scoring=\"r2\", cv=crossvalidation,\n",
    " n_jobs=1)\n",
    "\n",
    "print(\"Folds: \" + str(len(scores)) + \", MSE: \" + str(np.mean(np.abs(scores))) + \", STD: \" + str(np.std(scores)))\n"
   ]
  },
  {
   "cell_type": "code",
   "execution_count": 20,
   "id": "7da14e6a",
   "metadata": {},
   "outputs": [
    {
     "name": "stdout",
     "output_type": "stream",
     "text": [
      "Best Alpha 0.9899999999999995\n",
      "R2 0.8351387384635716\n",
      "Adj R2 0.8299868240405581\n",
      "[0.84652425 0.84652423 0.84652422 0.84652421 0.8465242  0.84652418\n",
      " 0.84652416 0.84652415 0.84652413 0.84652411 0.84652409 0.84652407\n",
      " 0.84652405 0.84652402 0.846524   0.84652397 0.84652395 0.84652392\n",
      " 0.84652389 0.84652386 0.84652383 0.8465238  0.84652377 0.84652373\n",
      " 0.8465237  0.84652367 0.84652363 0.84652359 0.84652355 0.84652351\n",
      " 0.84652347 0.84652343 0.84652339 0.84652335 0.8465233  0.84652326\n",
      " 0.84652321 0.84652316 0.84652312 0.84652307 0.84652302 0.84652297\n",
      " 0.84652291 0.84652286 0.84652281 0.84652275 0.8465227  0.84652264\n",
      " 0.84652258 0.84652252 0.84652247 0.8465224  0.84652234 0.84652228\n",
      " 0.84652222 0.84652215 0.84652209 0.84652202 0.84652196 0.84652189\n",
      " 0.84652182 0.84652175 0.84652168 0.84652161 0.84652153 0.84652146\n",
      " 0.84652139 0.84652131 0.84652123 0.84652116 0.84652108 0.846521\n",
      " 0.84652092 0.84652084 0.84652076 0.84652067 0.84652059 0.84652051\n",
      " 0.84652042 0.84652033 0.84652025 0.84652016 0.84652007 0.84651998\n",
      " 0.84651989 0.8465198  0.84651971 0.84651961 0.84651952 0.84651942]\n"
     ]
    },
    {
     "data": {
      "image/png": "[encoded data removed]",
      "text/plain": [
       "<Figure size 432x288 with 1 Axes>"
      ]
     },
     "metadata": {
      "needs_background": "light"
     },
     "output_type": "display_data"
    }
   ],
   "source": [
    "#define model\n",
    "model_cv = RidgeCV(alphas=np.arange(.1, 1,0.01), cv=5, scoring='neg_mean_absolute_error')\n",
    "\n",
    "#fit model\n",
    "model_cv.fit(X_train, Y_train)\n",
    "\n",
    "#display lambda that produced the lowest test MSE\n",
    "print(\"Best Alpha\", model_cv.alpha_)\n",
    "\n",
    "Y_Pred=model_cv.predict(X_test)\n",
    "\n",
    "x=r2_score(Y_test, Y_Pred)\n",
    "print(\"R2\",x)\n",
    "adjusted_r2 = calculate_adj_r2(x, X_test.count()[0],len(X))\n",
    "print(\"Adj R2\",adjusted_r2)\n",
    "# scores = cross_val_score(model_cv, X_train, Y_train , scoring=\"r2\", cv=crossvalidation,\n",
    "#  n_jobs=1)\n",
    "\n",
    "# print(\"Folds: \" + str(len(scores)) + \", MSE: \" + str(np.mean(np.abs(scores))) + \", STD: \" + str(np.std(scores)))\n",
    "\n",
    "train_scores, valid_scores = validation_curve(\n",
    " Ridge(), X_test, Y_test, param_name=\"alpha\", param_range=np.arange(.1, 1,0.01),\n",
    " cv=5)\n",
    "train_scores_mean = np.mean(train_scores, axis=1)\n",
    "train_scores_std = np.std(train_scores, axis=1)\n",
    "valid_scores_mean = np.mean(valid_scores, axis=1)\n",
    "valid_scores_std = np.std(valid_scores, axis=1)\n",
    "print(train_scores_mean)\n",
    "plt.xlabel('alpha')\n",
    "plt.ylabel('score')\n",
    "plt.plot(np.arange(.1, 1,0.01), train_scores_mean, label=\"train score\")\n",
    "plt.plot(np.arange(.1, 1,0.01), valid_scores_mean, label=\"validation score\")\n",
    "plt.legend()\n",
    "plt.show()\n"
   ]
  },
  {
   "cell_type": "code",
   "execution_count": 21,
   "id": "5f764bbe",
   "metadata": {},
   "outputs": [
    {
     "name": "stdout",
     "output_type": "stream",
     "text": [
      "R2 0.8351393461798071\n",
      "Adj R2 0.8299874507479261\n",
      "[0.81177323 0.81177323 0.81177322 0.81177322 0.81177322 0.81177321\n",
      " 0.81177321 0.81177321 0.8117732  0.8117732  0.81177319 0.81177319\n",
      " 0.81177319 0.81177318 0.81177318 0.81177317 0.81177316 0.81177316\n",
      " 0.81177315 0.81177315 0.81177314 0.81177313 0.81177313 0.81177312\n",
      " 0.81177311 0.8117731  0.8117731  0.81177309 0.81177308 0.81177307\n",
      " 0.81177306 0.81177305 0.81177304 0.81177303 0.81177302 0.81177301\n",
      " 0.811773   0.81177299 0.81177298 0.81177297 0.81177296 0.81177295\n",
      " 0.81177294 0.81177293 0.81177292 0.8117729  0.81177289 0.81177288\n",
      " 0.81177287 0.81177285 0.81177284 0.81177283 0.81177281 0.8117728\n",
      " 0.81177279 0.81177277 0.81177276 0.81177274 0.81177273 0.81177271\n",
      " 0.8117727  0.81177268 0.81177267 0.81177265 0.81177263 0.81177262\n",
      " 0.8117726  0.81177258 0.81177257 0.81177255 0.81177253 0.81177251\n",
      " 0.8117725  0.81177248 0.81177246 0.81177244 0.81177242 0.8117724\n",
      " 0.81177238 0.81177237 0.81177235 0.81177233 0.81177231 0.81177229\n",
      " 0.81177227 0.81177224 0.81177222 0.8117722  0.81177218 0.81177216]\n"
     ]
    },
    {
     "data": {
      "image/png": "[encoded data removed]",
      "text/plain": [
       "<Figure size 432x288 with 1 Axes>"
      ]
     },
     "metadata": {
      "needs_background": "light"
     },
     "output_type": "display_data"
    }
   ],
   "source": [
    "model = Ridge()\n",
    "model.fit(X_train, Y_train)\n",
    "Y_Pred=model.predict(X_test)\n",
    "\n",
    "x=r2_score(Y_test, Y_Pred)\n",
    "print(\"R2\",x)\n",
    "adjusted_r2 = calculate_adj_r2(x, X_test.count()[0],len(X))\n",
    "print(\"Adj R2\",adjusted_r2)\n",
    "\n",
    "train_scores, _ = validation_curve(model,\n",
    "                                             X=X_train, y=Y_train,\n",
    "                                             cv=5, param_name=\"alpha\", param_range=np.arange(.1, 1,0.01),)\n",
    "#\n",
    "# Find the mean of training and test scores out of 10-fod StratifiedKFold cross validation run as part fo execution of validation curve\n",
    "#\n",
    "\n",
    "_, test_scores = validation_curve(model,\n",
    "                                             X=data[X], y=data[Y],\n",
    "                                             cv=5, param_name=\"alpha\", param_range=np.arange(.1, 1,0.01),)\n",
    "train_mean = np.mean(train_scores, axis=1)\n",
    "test_mean = np.mean(test_scores, axis=1)\n",
    "print(train_mean)\n",
    "plt.plot(np.arange(.1, 1,0.01), train_mean,\n",
    "         marker='o', markersize=5,\n",
    "         color='blue', label='Training Accuracy')\n",
    "plt.plot(np.arange(.1, 1,0.01), test_mean,\n",
    "         marker='o', markersize=5,\n",
    "         color='green', label='Validation Accuracy')\n",
    "plt.xlabel('Parameter C')\n",
    "plt.ylabel('Accuracy')\n",
    "plt.grid()\n",
    "plt.show()"
   ]
  },
  {
   "cell_type": "code",
   "execution_count": 22,
   "id": "8c62ea15",
   "metadata": {},
   "outputs": [
    {
     "name": "stdout",
     "output_type": "stream",
     "text": [
      "    |   Population Average    |             Best Individual              |\n",
      "---- ------------------------- ------------------------------------------ ----------\n",
      " Gen   Length          Fitness   Length          Fitness      OOB Fitness  Time Left\n",
      "   0    33.42      2.86478e+26       25          5.36218          5.45975     36.62s\n",
      "   1    19.01       6.9813e+15       13          4.75148          5.44457     24.19s\n",
      "   2    24.18       7.2359e+08       17          2.49363          1.91404     21.41s\n",
      "   3    20.46      3.90249e+06       17          2.37674           2.9582     18.94s\n",
      "   4    23.43      1.37264e+10       17           2.4177          2.59232     16.36s\n",
      "   5    22.82      8.24443e+08       19          2.25053          2.11364     12.69s\n",
      "   6    21.05      2.22082e+09       23          2.17113          3.17656      9.54s\n",
      "   7    19.29      1.52932e+09       19          2.13066          3.18446      6.82s\n",
      "   8    18.05      4.87698e+08       21           2.1114          3.51407      3.24s\n",
      "   9    18.87      3.55911e+10       25          2.06669          3.57809      0.00s\n",
      "0.8436613129115431\n",
      "R2 0.8985500344084522\n",
      "Adj R2 0.8953797229837163\n"
     ]
    }
   ],
   "source": [
    "est_gp = SymbolicRegressor(population_size=5000,\n",
    "                           generations=10, stopping_criteria=0.01,\n",
    "                           p_crossover=0.7, p_subtree_mutation=0.1,\n",
    "                           p_hoist_mutation=0.05, p_point_mutation=0.1,\n",
    "                           max_samples=0.9, verbose=1,\n",
    "                           parsimony_coefficient=0.01, random_state=0)\n",
    "est_gp.fit(X_train, Y_train)\n",
    "score_gp = est_gp.score(X_train, Y_train)\n",
    "print(score_gp)\n",
    "Y_Pred=est_gp.predict(X_test)\n",
    "x=r2_score(Y_test, Y_Pred)\n",
    "print(\"R2\",x)\n",
    "adjusted_r2 = calculate_adj_r2(x, X_test.count()[0],len(X))\n",
    "print(\"Adj R2\",adjusted_r2)"
   ]
  },
  {
   "cell_type": "code",
   "execution_count": 23,
   "id": "8da9eec0",
   "metadata": {},
   "outputs": [
    {
     "name": "stdout",
     "output_type": "stream",
     "text": [
      "R2 0.8341870182234833\n",
      "Adj R2 0.8290053625429672\n"
     ]
    }
   ],
   "source": [
    "lasso_model = Lasso()\n",
    "lasso_model.fit(X_train, Y_train)\n",
    "Y_Pred=lasso_model.predict(X_test)\n",
    "\n",
    "x=r2_score(Y_test, Y_Pred)\n",
    "print(\"R2\",x)\n",
    "adjusted_r2 = calculate_adj_r2(x, X_test.count()[0],len(X))\n",
    "print(\"Adj R2\",adjusted_r2)\n"
   ]
  },
  {
   "cell_type": "code",
   "execution_count": 24,
   "id": "92642144",
   "metadata": {},
   "outputs": [
    {
     "name": "stdout",
     "output_type": "stream",
     "text": [
      "5.422754488536554\n",
      "R2 0.810882236598091\n",
      "Adj R2 0.8049723064917813\n"
     ]
    }
   ],
   "source": [
    "from sklearn.linear_model import LassoCV\n",
    "\n",
    "# Lasso with 5 fold cross-validation\n",
    "model_l_cv = LassoCV(cv=5, random_state=0, max_iter=10000)\n",
    "\n",
    "# Fit model\n",
    "model_l_cv.fit(X_train, Y_train)\n",
    "print(model_l_cv.alpha_)\n",
    "lasso_best = Lasso(alpha=model_l_cv.alpha_)\n",
    "lasso_best.fit(X_train, Y_train)\n",
    "Y_Pred=lasso_best.predict(X_test)\n",
    "\n",
    "x=r2_score(Y_test, Y_Pred)\n",
    "print(\"R2\",x)\n",
    "adjusted_r2 = calculate_adj_r2(x, X_test.count()[0],len(X))\n",
    "print(\"Adj R2\",adjusted_r2)"
   ]
  },
  {
   "cell_type": "code",
   "execution_count": null,
   "id": "e5e40bb0",
   "metadata": {},
   "outputs": [],
   "source": []
  }
 ],
 "metadata": {
  "kernelspec": {
   "display_name": "Python 3 (ipykernel)",
   "language": "python",
   "name": "python3"
  },
  "language_info": {
   "codemirror_mode": {
    "name": "ipython",
    "version": 3
   },
   "file_extension": ".py",
   "mimetype": "text/x-python",
   "name": "python",
   "nbconvert_exporter": "python",
   "pygments_lexer": "ipython3",
   "version": "3.9.7"
  }
 },
 "nbformat": 4,
 "nbformat_minor": 5
}
