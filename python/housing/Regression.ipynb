{
 "cells": [
  {
   "cell_type": "code",
   "execution_count": 55,
   "id": "339baf02",
   "metadata": {},
   "outputs": [],
   "source": [
    "import numpy as np\n",
    "import pandas as pd\n",
    "import matplotlib.pyplot as plt\n",
    "import seaborn as sns\n",
    "from sklearn.metrics import r2_score,max_error\n",
    "from sklearn.model_selection import train_test_split\n",
    "from sklearn.linear_model import LinearRegression\n",
    "from sklearn.linear_model import Ridge\n",
    "from sklearn.linear_model import Lasso\n",
    "from sklearn.preprocessing import PolynomialFeatures\n",
    "from gplearn.genetic import SymbolicRegressor, SymbolicTransformer\n",
    "import mlxtend\n",
    "from mlxtend.feature_selection import SequentialFeatureSelector as SFS\n",
    "from sklearn.linear_model import RidgeCV\n",
    "from sklearn.model_selection import validation_curve\n",
    "from sklearn.model_selection import KFold\n",
    "from sklearn.model_selection import RepeatedKFold\n",
    "from sklearn.model_selection import cross_val_score\n",
    "crossvalidation = KFold(n_splits=10, random_state=None, shuffle=False)\n",
    "def calculate_adj_r2(r_sq, n, k):\n",
    "    adj_r = 1-((1-r_sq)*(n-1)/(n-k-1))\n",
    "    return adj_r"
   ]
  },
  {
   "cell_type": "code",
   "execution_count": 56,
   "id": "a806b25c",
   "metadata": {},
   "outputs": [],
   "source": [
    "dataset = pd.read_csv(\"USA_Housing.csv\")"
   ]
  },
  {
   "cell_type": "code",
   "execution_count": 57,
   "id": "a8a9ae81",
   "metadata": {},
   "outputs": [
    {
     "data": {
      "text/plain": [
       "(5000, 6)"
      ]
     },
     "execution_count": 57,
     "metadata": {},
     "output_type": "execute_result"
    }
   ],
   "source": [
    "dataset.shape"
   ]
  },
  {
   "cell_type": "code",
   "execution_count": 58,
   "id": "9644b9fa",
   "metadata": {},
   "outputs": [
    {
     "data": {
      "text/html": [
       "<div>\n",
       "<style scoped>\n",
       "    .dataframe tbody tr th:only-of-type {\n",
       "        vertical-align: middle;\n",
       "    }\n",
       "\n",
       "    .dataframe tbody tr th {\n",
       "        vertical-align: top;\n",
       "    }\n",
       "\n",
       "    .dataframe thead th {\n",
       "        text-align: right;\n",
       "    }\n",
       "</style>\n",
       "<table border=\"1\" class=\"dataframe\">\n",
       "  <thead>\n",
       "    <tr style=\"text-align: right;\">\n",
       "      <th></th>\n",
       "      <th>Avg. Area Income</th>\n",
       "      <th>Avg. Area House Age</th>\n",
       "      <th>Avg. Area Number of Rooms</th>\n",
       "      <th>Avg. Area Number of Bedrooms</th>\n",
       "      <th>Area Population</th>\n",
       "      <th>Price</th>\n",
       "    </tr>\n",
       "  </thead>\n",
       "  <tbody>\n",
       "    <tr>\n",
       "      <th>0</th>\n",
       "      <td>79545.45857</td>\n",
       "      <td>5.682861</td>\n",
       "      <td>7.009188</td>\n",
       "      <td>4.09</td>\n",
       "      <td>23086.80050</td>\n",
       "      <td>1.059034e+06</td>\n",
       "    </tr>\n",
       "    <tr>\n",
       "      <th>1</th>\n",
       "      <td>79248.64245</td>\n",
       "      <td>6.002900</td>\n",
       "      <td>6.730821</td>\n",
       "      <td>3.09</td>\n",
       "      <td>40173.07217</td>\n",
       "      <td>1.505891e+06</td>\n",
       "    </tr>\n",
       "    <tr>\n",
       "      <th>2</th>\n",
       "      <td>61287.06718</td>\n",
       "      <td>5.865890</td>\n",
       "      <td>8.512727</td>\n",
       "      <td>5.13</td>\n",
       "      <td>36882.15940</td>\n",
       "      <td>1.058988e+06</td>\n",
       "    </tr>\n",
       "    <tr>\n",
       "      <th>3</th>\n",
       "      <td>63345.24005</td>\n",
       "      <td>7.188236</td>\n",
       "      <td>5.586729</td>\n",
       "      <td>3.26</td>\n",
       "      <td>34310.24283</td>\n",
       "      <td>1.260617e+06</td>\n",
       "    </tr>\n",
       "    <tr>\n",
       "      <th>4</th>\n",
       "      <td>59982.19723</td>\n",
       "      <td>5.040555</td>\n",
       "      <td>7.839388</td>\n",
       "      <td>4.23</td>\n",
       "      <td>26354.10947</td>\n",
       "      <td>6.309435e+05</td>\n",
       "    </tr>\n",
       "  </tbody>\n",
       "</table>\n",
       "</div>"
      ],
      "text/plain": [
       "   Avg. Area Income  Avg. Area House Age  Avg. Area Number of Rooms  \\\n",
       "0       79545.45857             5.682861                   7.009188   \n",
       "1       79248.64245             6.002900                   6.730821   \n",
       "2       61287.06718             5.865890                   8.512727   \n",
       "3       63345.24005             7.188236                   5.586729   \n",
       "4       59982.19723             5.040555                   7.839388   \n",
       "\n",
       "   Avg. Area Number of Bedrooms  Area Population         Price  \n",
       "0                          4.09      23086.80050  1.059034e+06  \n",
       "1                          3.09      40173.07217  1.505891e+06  \n",
       "2                          5.13      36882.15940  1.058988e+06  \n",
       "3                          3.26      34310.24283  1.260617e+06  \n",
       "4                          4.23      26354.10947  6.309435e+05  "
      ]
     },
     "execution_count": 58,
     "metadata": {},
     "output_type": "execute_result"
    }
   ],
   "source": [
    "dataset.head()"
   ]
  },
  {
   "cell_type": "code",
   "execution_count": 59,
   "id": "322b3eef",
   "metadata": {},
   "outputs": [
    {
     "data": {
      "text/plain": [
       "Avg. Area Income                0\n",
       "Avg. Area House Age             0\n",
       "Avg. Area Number of Rooms       0\n",
       "Avg. Area Number of Bedrooms    0\n",
       "Area Population                 0\n",
       "Price                           0\n",
       "dtype: int64"
      ]
     },
     "execution_count": 59,
     "metadata": {},
     "output_type": "execute_result"
    }
   ],
   "source": [
    "dataset.isnull().sum()"
   ]
  },
  {
   "cell_type": "code",
   "execution_count": 60,
   "id": "42dce7c4",
   "metadata": {},
   "outputs": [
    {
     "data": {
      "text/html": [
       "<div>\n",
       "<style scoped>\n",
       "    .dataframe tbody tr th:only-of-type {\n",
       "        vertical-align: middle;\n",
       "    }\n",
       "\n",
       "    .dataframe tbody tr th {\n",
       "        vertical-align: top;\n",
       "    }\n",
       "\n",
       "    .dataframe thead th {\n",
       "        text-align: right;\n",
       "    }\n",
       "</style>\n",
       "<table border=\"1\" class=\"dataframe\">\n",
       "  <thead>\n",
       "    <tr style=\"text-align: right;\">\n",
       "      <th></th>\n",
       "      <th>Avg. Area Income</th>\n",
       "      <th>Avg. Area House Age</th>\n",
       "      <th>Avg. Area Number of Rooms</th>\n",
       "      <th>Avg. Area Number of Bedrooms</th>\n",
       "      <th>Area Population</th>\n",
       "      <th>Price</th>\n",
       "    </tr>\n",
       "  </thead>\n",
       "  <tbody>\n",
       "    <tr>\n",
       "      <th>count</th>\n",
       "      <td>5000.000000</td>\n",
       "      <td>5000.000000</td>\n",
       "      <td>5000.000000</td>\n",
       "      <td>5000.000000</td>\n",
       "      <td>5000.000000</td>\n",
       "      <td>5.000000e+03</td>\n",
       "    </tr>\n",
       "    <tr>\n",
       "      <th>mean</th>\n",
       "      <td>68583.108984</td>\n",
       "      <td>5.977222</td>\n",
       "      <td>6.987792</td>\n",
       "      <td>3.981330</td>\n",
       "      <td>36163.516039</td>\n",
       "      <td>1.232073e+06</td>\n",
       "    </tr>\n",
       "    <tr>\n",
       "      <th>std</th>\n",
       "      <td>10657.991214</td>\n",
       "      <td>0.991456</td>\n",
       "      <td>1.005833</td>\n",
       "      <td>1.234137</td>\n",
       "      <td>9925.650114</td>\n",
       "      <td>3.531176e+05</td>\n",
       "    </tr>\n",
       "    <tr>\n",
       "      <th>min</th>\n",
       "      <td>17796.631190</td>\n",
       "      <td>2.644304</td>\n",
       "      <td>3.236194</td>\n",
       "      <td>2.000000</td>\n",
       "      <td>172.610686</td>\n",
       "      <td>1.593866e+04</td>\n",
       "    </tr>\n",
       "    <tr>\n",
       "      <th>25%</th>\n",
       "      <td>61480.562390</td>\n",
       "      <td>5.322283</td>\n",
       "      <td>6.299250</td>\n",
       "      <td>3.140000</td>\n",
       "      <td>29403.928700</td>\n",
       "      <td>9.975771e+05</td>\n",
       "    </tr>\n",
       "    <tr>\n",
       "      <th>50%</th>\n",
       "      <td>68804.286405</td>\n",
       "      <td>5.970429</td>\n",
       "      <td>7.002902</td>\n",
       "      <td>4.050000</td>\n",
       "      <td>36199.406690</td>\n",
       "      <td>1.232669e+06</td>\n",
       "    </tr>\n",
       "    <tr>\n",
       "      <th>75%</th>\n",
       "      <td>75783.338665</td>\n",
       "      <td>6.650808</td>\n",
       "      <td>7.665871</td>\n",
       "      <td>4.490000</td>\n",
       "      <td>42861.290770</td>\n",
       "      <td>1.471210e+06</td>\n",
       "    </tr>\n",
       "    <tr>\n",
       "      <th>max</th>\n",
       "      <td>107701.748400</td>\n",
       "      <td>9.519088</td>\n",
       "      <td>10.759588</td>\n",
       "      <td>6.500000</td>\n",
       "      <td>69621.713380</td>\n",
       "      <td>2.469066e+06</td>\n",
       "    </tr>\n",
       "  </tbody>\n",
       "</table>\n",
       "</div>"
      ],
      "text/plain": [
       "       Avg. Area Income  Avg. Area House Age  Avg. Area Number of Rooms  \\\n",
       "count       5000.000000          5000.000000                5000.000000   \n",
       "mean       68583.108984             5.977222                   6.987792   \n",
       "std        10657.991214             0.991456                   1.005833   \n",
       "min        17796.631190             2.644304                   3.236194   \n",
       "25%        61480.562390             5.322283                   6.299250   \n",
       "50%        68804.286405             5.970429                   7.002902   \n",
       "75%        75783.338665             6.650808                   7.665871   \n",
       "max       107701.748400             9.519088                  10.759588   \n",
       "\n",
       "       Avg. Area Number of Bedrooms  Area Population         Price  \n",
       "count                   5000.000000      5000.000000  5.000000e+03  \n",
       "mean                       3.981330     36163.516039  1.232073e+06  \n",
       "std                        1.234137      9925.650114  3.531176e+05  \n",
       "min                        2.000000       172.610686  1.593866e+04  \n",
       "25%                        3.140000     29403.928700  9.975771e+05  \n",
       "50%                        4.050000     36199.406690  1.232669e+06  \n",
       "75%                        4.490000     42861.290770  1.471210e+06  \n",
       "max                        6.500000     69621.713380  2.469066e+06  "
      ]
     },
     "execution_count": 60,
     "metadata": {},
     "output_type": "execute_result"
    }
   ],
   "source": [
    "dataset.describe()"
   ]
  },
  {
   "cell_type": "code",
   "execution_count": 61,
   "id": "8b66a401",
   "metadata": {},
   "outputs": [],
   "source": [
    "# creating the training data\n",
    "\n",
    "X = dataset.drop(['Price'], axis=1)\n",
    "y = dataset['Price']"
   ]
  },
  {
   "cell_type": "code",
   "execution_count": 62,
   "id": "3b5ca7be",
   "metadata": {},
   "outputs": [
    {
     "data": {
      "text/plain": [
       "((5000, 5), (5000,))"
      ]
     },
     "execution_count": 62,
     "metadata": {},
     "output_type": "execute_result"
    }
   ],
   "source": [
    "X.shape, y.shape"
   ]
  },
  {
   "cell_type": "markdown",
   "id": "71268ca2",
   "metadata": {},
   "source": [
    "<h2> Forward Feature Selection</h2>"
   ]
  },
  {
   "cell_type": "code",
   "execution_count": 63,
   "id": "11cc5490",
   "metadata": {},
   "outputs": [],
   "source": [
    "sfs = SFS(LinearRegression(),\n",
    "          k_features='best',\n",
    "          forward=True,\n",
    "          floating=False,\n",
    "          verbose=2,\n",
    "          scoring = 'r2',\n",
    "          cv = 5)"
   ]
  },
  {
   "cell_type": "code",
   "execution_count": 64,
   "id": "b0323a75",
   "metadata": {},
   "outputs": [
    {
     "name": "stdout",
     "output_type": "stream",
     "text": [
      "Selected Features: ('Avg. Area Income', 'Avg. Area House Age', 'Avg. Area Number of Rooms', 'Area Population')\n",
      "Selected Features ID: (0, 1, 2, 4)\n"
     ]
    },
    {
     "name": "stderr",
     "output_type": "stream",
     "text": [
      "[Parallel(n_jobs=1)]: Using backend SequentialBackend with 1 concurrent workers.\n",
      "[Parallel(n_jobs=1)]: Done   1 out of   1 | elapsed:    0.0s remaining:    0.0s\n",
      "[Parallel(n_jobs=1)]: Done   5 out of   5 | elapsed:    0.0s finished\n",
      "\n",
      "[2022-02-21 23:18:42] Features: 1/5 -- score: 0.4065836013812946[Parallel(n_jobs=1)]: Using backend SequentialBackend with 1 concurrent workers.\n",
      "[Parallel(n_jobs=1)]: Done   1 out of   1 | elapsed:    0.0s remaining:    0.0s\n",
      "[Parallel(n_jobs=1)]: Done   4 out of   4 | elapsed:    0.0s finished\n",
      "\n",
      "[2022-02-21 23:18:42] Features: 2/5 -- score: 0.6124249771420225[Parallel(n_jobs=1)]: Using backend SequentialBackend with 1 concurrent workers.\n",
      "[Parallel(n_jobs=1)]: Done   1 out of   1 | elapsed:    0.0s remaining:    0.0s\n",
      "[Parallel(n_jobs=1)]: Done   3 out of   3 | elapsed:    0.0s finished\n",
      "\n",
      "[2022-02-21 23:18:42] Features: 3/5 -- score: 0.7970040383531473[Parallel(n_jobs=1)]: Using backend SequentialBackend with 1 concurrent workers.\n",
      "[Parallel(n_jobs=1)]: Done   1 out of   1 | elapsed:    0.0s remaining:    0.0s\n",
      "[Parallel(n_jobs=1)]: Done   2 out of   2 | elapsed:    0.0s finished\n",
      "\n",
      "[2022-02-21 23:18:42] Features: 4/5 -- score: 0.9175829481912778[Parallel(n_jobs=1)]: Using backend SequentialBackend with 1 concurrent workers.\n",
      "[Parallel(n_jobs=1)]: Done   1 out of   1 | elapsed:    0.0s remaining:    0.0s\n",
      "[Parallel(n_jobs=1)]: Done   1 out of   1 | elapsed:    0.0s finished\n",
      "\n",
      "[2022-02-21 23:18:42] Features: 5/5 -- score: 0.917559209763634"
     ]
    }
   ],
   "source": [
    "sfs.fit(X, y)\n",
    "print(\"Selected Features:\",sfs.k_feature_names_)\n",
    "print(\"Selected Features ID:\",sfs.k_feature_idx_)"
   ]
  },
  {
   "cell_type": "code",
   "execution_count": 65,
   "id": "74c71d9f",
   "metadata": {},
   "outputs": [
    {
     "data": {
      "text/html": [
       "<div>\n",
       "<style scoped>\n",
       "    .dataframe tbody tr th:only-of-type {\n",
       "        vertical-align: middle;\n",
       "    }\n",
       "\n",
       "    .dataframe tbody tr th {\n",
       "        vertical-align: top;\n",
       "    }\n",
       "\n",
       "    .dataframe thead th {\n",
       "        text-align: right;\n",
       "    }\n",
       "</style>\n",
       "<table border=\"1\" class=\"dataframe\">\n",
       "  <thead>\n",
       "    <tr style=\"text-align: right;\">\n",
       "      <th></th>\n",
       "      <th>feature_idx</th>\n",
       "      <th>cv_scores</th>\n",
       "      <th>avg_score</th>\n",
       "      <th>feature_names</th>\n",
       "      <th>ci_bound</th>\n",
       "      <th>std_dev</th>\n",
       "      <th>std_err</th>\n",
       "    </tr>\n",
       "  </thead>\n",
       "  <tbody>\n",
       "    <tr>\n",
       "      <th>1</th>\n",
       "      <td>(0,)</td>\n",
       "      <td>[0.4260936784765087, 0.4410126389901101, 0.364...</td>\n",
       "      <td>0.406584</td>\n",
       "      <td>(Avg. Area Income,)</td>\n",
       "      <td>0.036804</td>\n",
       "      <td>0.028635</td>\n",
       "      <td>0.014317</td>\n",
       "    </tr>\n",
       "    <tr>\n",
       "      <th>2</th>\n",
       "      <td>(0, 1)</td>\n",
       "      <td>[0.6264837396794845, 0.6566958614467223, 0.568...</td>\n",
       "      <td>0.612425</td>\n",
       "      <td>(Avg. Area Income, Avg. Area House Age)</td>\n",
       "      <td>0.039491</td>\n",
       "      <td>0.030726</td>\n",
       "      <td>0.015363</td>\n",
       "    </tr>\n",
       "    <tr>\n",
       "      <th>3</th>\n",
       "      <td>(0, 1, 4)</td>\n",
       "      <td>[0.799500115176274, 0.8146479457241405, 0.7881...</td>\n",
       "      <td>0.797004</td>\n",
       "      <td>(Avg. Area Income, Avg. Area House Age, Area P...</td>\n",
       "      <td>0.012392</td>\n",
       "      <td>0.009641</td>\n",
       "      <td>0.004821</td>\n",
       "    </tr>\n",
       "    <tr>\n",
       "      <th>4</th>\n",
       "      <td>(0, 1, 2, 4)</td>\n",
       "      <td>[0.917841711309842, 0.9202527128422192, 0.9153...</td>\n",
       "      <td>0.917583</td>\n",
       "      <td>(Avg. Area Income, Avg. Area House Age, Avg. A...</td>\n",
       "      <td>0.003516</td>\n",
       "      <td>0.002736</td>\n",
       "      <td>0.001368</td>\n",
       "    </tr>\n",
       "    <tr>\n",
       "      <th>5</th>\n",
       "      <td>(0, 1, 2, 3, 4)</td>\n",
       "      <td>[0.9175899480765564, 0.9203015496401156, 0.915...</td>\n",
       "      <td>0.917559</td>\n",
       "      <td>(Avg. Area Income, Avg. Area House Age, Avg. A...</td>\n",
       "      <td>0.003532</td>\n",
       "      <td>0.002748</td>\n",
       "      <td>0.001374</td>\n",
       "    </tr>\n",
       "  </tbody>\n",
       "</table>\n",
       "</div>"
      ],
      "text/plain": [
       "       feature_idx                                          cv_scores  \\\n",
       "1             (0,)  [0.4260936784765087, 0.4410126389901101, 0.364...   \n",
       "2           (0, 1)  [0.6264837396794845, 0.6566958614467223, 0.568...   \n",
       "3        (0, 1, 4)  [0.799500115176274, 0.8146479457241405, 0.7881...   \n",
       "4     (0, 1, 2, 4)  [0.917841711309842, 0.9202527128422192, 0.9153...   \n",
       "5  (0, 1, 2, 3, 4)  [0.9175899480765564, 0.9203015496401156, 0.915...   \n",
       "\n",
       "  avg_score                                      feature_names  ci_bound  \\\n",
       "1  0.406584                                (Avg. Area Income,)  0.036804   \n",
       "2  0.612425            (Avg. Area Income, Avg. Area House Age)  0.039491   \n",
       "3  0.797004  (Avg. Area Income, Avg. Area House Age, Area P...  0.012392   \n",
       "4  0.917583  (Avg. Area Income, Avg. Area House Age, Avg. A...  0.003516   \n",
       "5  0.917559  (Avg. Area Income, Avg. Area House Age, Avg. A...  0.003532   \n",
       "\n",
       "    std_dev   std_err  \n",
       "1  0.028635  0.014317  \n",
       "2  0.030726  0.015363  \n",
       "3  0.009641  0.004821  \n",
       "4  0.002736  0.001368  \n",
       "5  0.002748  0.001374  "
      ]
     },
     "execution_count": 65,
     "metadata": {},
     "output_type": "execute_result"
    }
   ],
   "source": [
    "df=pd.DataFrame.from_dict(sfs.get_metric_dict()).T\n",
    "df"
   ]
  },
  {
   "cell_type": "markdown",
   "id": "de0e6781",
   "metadata": {},
   "source": [
    "<h2> Backward Feature Selection</h2>"
   ]
  },
  {
   "cell_type": "code",
   "execution_count": 66,
   "id": "2a85e067",
   "metadata": {},
   "outputs": [],
   "source": [
    "#importing the necessary libraries\n",
    "import mlxtend\n",
    "from mlxtend.feature_selection import SequentialFeatureSelector as SFS\n",
    "from sklearn.linear_model import LinearRegression\n",
    "# Sequential Forward Selection(sfs)\n",
    "sfs = SFS(LinearRegression(),\n",
    "          k_features='best',\n",
    "          forward=False,\n",
    "          floating=False,\n",
    "          verbose=2,\n",
    "          scoring = 'r2',\n",
    "          cv = 5)"
   ]
  },
  {
   "cell_type": "code",
   "execution_count": 67,
   "id": "d5715b4d",
   "metadata": {},
   "outputs": [
    {
     "name": "stderr",
     "output_type": "stream",
     "text": [
      "[Parallel(n_jobs=1)]: Using backend SequentialBackend with 1 concurrent workers.\n",
      "[Parallel(n_jobs=1)]: Done   1 out of   1 | elapsed:    0.0s remaining:    0.0s\n",
      "[Parallel(n_jobs=1)]: Done   5 out of   5 | elapsed:    0.0s finished\n",
      "\n",
      "[2022-02-21 23:18:42] Features: 4/1 -- score: 0.9175829481912778[Parallel(n_jobs=1)]: Using backend SequentialBackend with 1 concurrent workers.\n",
      "[Parallel(n_jobs=1)]: Done   1 out of   1 | elapsed:    0.0s remaining:    0.0s\n",
      "[Parallel(n_jobs=1)]: Done   4 out of   4 | elapsed:    0.0s finished\n",
      "\n",
      "[2022-02-21 23:18:42] Features: 3/1 -- score: 0.7970040383531473[Parallel(n_jobs=1)]: Using backend SequentialBackend with 1 concurrent workers.\n"
     ]
    },
    {
     "name": "stdout",
     "output_type": "stream",
     "text": [
      "Selected Features: ('Avg. Area Income', 'Avg. Area House Age', 'Avg. Area Number of Rooms', 'Area Population')\n",
      "Selected Features ID: (0, 1, 2, 4)\n"
     ]
    },
    {
     "name": "stderr",
     "output_type": "stream",
     "text": [
      "[Parallel(n_jobs=1)]: Done   1 out of   1 | elapsed:    0.0s remaining:    0.0s\n",
      "[Parallel(n_jobs=1)]: Done   3 out of   3 | elapsed:    0.0s finished\n",
      "\n",
      "[2022-02-21 23:18:42] Features: 2/1 -- score: 0.6124249771420225[Parallel(n_jobs=1)]: Using backend SequentialBackend with 1 concurrent workers.\n",
      "[Parallel(n_jobs=1)]: Done   1 out of   1 | elapsed:    0.0s remaining:    0.0s\n",
      "[Parallel(n_jobs=1)]: Done   2 out of   2 | elapsed:    0.0s finished\n",
      "\n",
      "[2022-02-21 23:18:42] Features: 1/1 -- score: 0.4065836013812946"
     ]
    }
   ],
   "source": [
    "sfs.fit(X, y)\n",
    "print(\"Selected Features:\",sfs.k_feature_names_)\n",
    "print(\"Selected Features ID:\",sfs.k_feature_idx_)"
   ]
  },
  {
   "cell_type": "markdown",
   "id": "769c5751",
   "metadata": {},
   "source": [
    "<h2>Step-wise Feature Selection</h2>"
   ]
  },
  {
   "cell_type": "code",
   "execution_count": 68,
   "id": "3d60d041",
   "metadata": {},
   "outputs": [],
   "source": [
    "#importing the necessary libraries\n",
    "import mlxtend\n",
    "from mlxtend.feature_selection import SequentialFeatureSelector as SFS\n",
    "from sklearn.linear_model import LinearRegression\n",
    "# Sequential Forward Selection(sfs)\n",
    "sfs = SFS(LinearRegression(),\n",
    "          k_features='best',\n",
    "          forward=True,\n",
    "          floating=True,\n",
    "          verbose=2,\n",
    "          scoring = 'r2',\n",
    "          cv = 5)"
   ]
  },
  {
   "cell_type": "code",
   "execution_count": 69,
   "id": "44368cfe",
   "metadata": {},
   "outputs": [
    {
     "name": "stderr",
     "output_type": "stream",
     "text": [
      "[Parallel(n_jobs=1)]: Using backend SequentialBackend with 1 concurrent workers.\n",
      "[Parallel(n_jobs=1)]: Done   1 out of   1 | elapsed:    0.0s remaining:    0.0s\n",
      "[Parallel(n_jobs=1)]: Done   5 out of   5 | elapsed:    0.0s finished\n",
      "\n",
      "[2022-02-21 23:18:42] Features: 1/5 -- score: 0.4065836013812946[Parallel(n_jobs=1)]: Using backend SequentialBackend with 1 concurrent workers.\n",
      "[Parallel(n_jobs=1)]: Done   1 out of   1 | elapsed:    0.0s remaining:    0.0s\n",
      "[Parallel(n_jobs=1)]: Done   4 out of   4 | elapsed:    0.0s finished\n",
      "[Parallel(n_jobs=1)]: Using backend SequentialBackend with 1 concurrent workers.\n",
      "[Parallel(n_jobs=1)]: Done   1 out of   1 | elapsed:    0.0s remaining:    0.0s\n",
      "[Parallel(n_jobs=1)]: Done   1 out of   1 | elapsed:    0.0s finished\n",
      "\n",
      "[2022-02-21 23:18:42] Features: 2/5 -- score: 0.6124249771420225[Parallel(n_jobs=1)]: Using backend SequentialBackend with 1 concurrent workers.\n",
      "[Parallel(n_jobs=1)]: Done   1 out of   1 | elapsed:    0.0s remaining:    0.0s\n",
      "[Parallel(n_jobs=1)]: Done   3 out of   3 | elapsed:    0.0s finished\n",
      "[Parallel(n_jobs=1)]: Using backend SequentialBackend with 1 concurrent workers.\n",
      "[Parallel(n_jobs=1)]: Done   1 out of   1 | elapsed:    0.0s remaining:    0.0s\n",
      "[Parallel(n_jobs=1)]: Done   2 out of   2 | elapsed:    0.0s finished\n",
      "\n",
      "[2022-02-21 23:18:42] Features: 3/5 -- score: 0.7970040383531473[Parallel(n_jobs=1)]: Using backend SequentialBackend with 1 concurrent workers.\n",
      "[Parallel(n_jobs=1)]: Done   1 out of   1 | elapsed:    0.0s remaining:    0.0s\n",
      "[Parallel(n_jobs=1)]: Done   2 out of   2 | elapsed:    0.0s finished\n",
      "[Parallel(n_jobs=1)]: Using backend SequentialBackend with 1 concurrent workers.\n",
      "[Parallel(n_jobs=1)]: Done   1 out of   1 | elapsed:    0.0s remaining:    0.0s\n",
      "[Parallel(n_jobs=1)]: Done   3 out of   3 | elapsed:    0.0s finished\n",
      "\n",
      "[2022-02-21 23:18:42] Features: 4/5 -- score: 0.9175829481912778[Parallel(n_jobs=1)]: Using backend SequentialBackend with 1 concurrent workers.\n",
      "[Parallel(n_jobs=1)]: Done   1 out of   1 | elapsed:    0.0s remaining:    0.0s\n",
      "[Parallel(n_jobs=1)]: Done   1 out of   1 | elapsed:    0.0s finished\n",
      "[Parallel(n_jobs=1)]: Using backend SequentialBackend with 1 concurrent workers.\n",
      "[Parallel(n_jobs=1)]: Done   1 out of   1 | elapsed:    0.0s remaining:    0.0s\n",
      "[Parallel(n_jobs=1)]: Done   4 out of   4 | elapsed:    0.0s finished\n",
      "\n",
      "[2022-02-21 23:18:42] Features: 5/5 -- score: 0.917559209763634"
     ]
    },
    {
     "name": "stdout",
     "output_type": "stream",
     "text": [
      "Selected Features: ('Avg. Area Income', 'Avg. Area House Age', 'Avg. Area Number of Rooms', 'Area Population')\n",
      "Selected Features ID: (0, 1, 2, 4)\n"
     ]
    }
   ],
   "source": [
    "sfs.fit(X, y)\n",
    "print(\"Selected Features:\",sfs.k_feature_names_)\n",
    "print(\"Selected Features ID:\",sfs.k_feature_idx_)"
   ]
  },
  {
   "cell_type": "code",
   "execution_count": 70,
   "id": "664e2570",
   "metadata": {},
   "outputs": [
    {
     "data": {
      "text/html": [
       "<div>\n",
       "<style scoped>\n",
       "    .dataframe tbody tr th:only-of-type {\n",
       "        vertical-align: middle;\n",
       "    }\n",
       "\n",
       "    .dataframe tbody tr th {\n",
       "        vertical-align: top;\n",
       "    }\n",
       "\n",
       "    .dataframe thead th {\n",
       "        text-align: right;\n",
       "    }\n",
       "</style>\n",
       "<table border=\"1\" class=\"dataframe\">\n",
       "  <thead>\n",
       "    <tr style=\"text-align: right;\">\n",
       "      <th></th>\n",
       "      <th>feature_idx</th>\n",
       "      <th>cv_scores</th>\n",
       "      <th>avg_score</th>\n",
       "      <th>feature_names</th>\n",
       "      <th>ci_bound</th>\n",
       "      <th>std_dev</th>\n",
       "      <th>std_err</th>\n",
       "    </tr>\n",
       "  </thead>\n",
       "  <tbody>\n",
       "    <tr>\n",
       "      <th>1</th>\n",
       "      <td>(0,)</td>\n",
       "      <td>[0.4260936784765087, 0.4410126389901101, 0.364...</td>\n",
       "      <td>0.406584</td>\n",
       "      <td>(Avg. Area Income,)</td>\n",
       "      <td>0.036804</td>\n",
       "      <td>0.028635</td>\n",
       "      <td>0.014317</td>\n",
       "    </tr>\n",
       "    <tr>\n",
       "      <th>2</th>\n",
       "      <td>(0, 1)</td>\n",
       "      <td>[0.6264837396794845, 0.6566958614467223, 0.568...</td>\n",
       "      <td>0.612425</td>\n",
       "      <td>(Avg. Area Income, Avg. Area House Age)</td>\n",
       "      <td>0.039491</td>\n",
       "      <td>0.030726</td>\n",
       "      <td>0.015363</td>\n",
       "    </tr>\n",
       "    <tr>\n",
       "      <th>3</th>\n",
       "      <td>(0, 1, 4)</td>\n",
       "      <td>[0.799500115176274, 0.8146479457241405, 0.7881...</td>\n",
       "      <td>0.797004</td>\n",
       "      <td>(Avg. Area Income, Avg. Area House Age, Area P...</td>\n",
       "      <td>0.012392</td>\n",
       "      <td>0.009641</td>\n",
       "      <td>0.004821</td>\n",
       "    </tr>\n",
       "    <tr>\n",
       "      <th>4</th>\n",
       "      <td>(0, 1, 2, 4)</td>\n",
       "      <td>[0.917841711309842, 0.9202527128422192, 0.9153...</td>\n",
       "      <td>0.917583</td>\n",
       "      <td>(Avg. Area Income, Avg. Area House Age, Avg. A...</td>\n",
       "      <td>0.003516</td>\n",
       "      <td>0.002736</td>\n",
       "      <td>0.001368</td>\n",
       "    </tr>\n",
       "    <tr>\n",
       "      <th>5</th>\n",
       "      <td>(0, 1, 2, 3, 4)</td>\n",
       "      <td>[0.9175899480765564, 0.9203015496401156, 0.915...</td>\n",
       "      <td>0.917559</td>\n",
       "      <td>(Avg. Area Income, Avg. Area House Age, Avg. A...</td>\n",
       "      <td>0.003532</td>\n",
       "      <td>0.002748</td>\n",
       "      <td>0.001374</td>\n",
       "    </tr>\n",
       "  </tbody>\n",
       "</table>\n",
       "</div>"
      ],
      "text/plain": [
       "       feature_idx                                          cv_scores  \\\n",
       "1             (0,)  [0.4260936784765087, 0.4410126389901101, 0.364...   \n",
       "2           (0, 1)  [0.6264837396794845, 0.6566958614467223, 0.568...   \n",
       "3        (0, 1, 4)  [0.799500115176274, 0.8146479457241405, 0.7881...   \n",
       "4     (0, 1, 2, 4)  [0.917841711309842, 0.9202527128422192, 0.9153...   \n",
       "5  (0, 1, 2, 3, 4)  [0.9175899480765564, 0.9203015496401156, 0.915...   \n",
       "\n",
       "  avg_score                                      feature_names  ci_bound  \\\n",
       "1  0.406584                                (Avg. Area Income,)  0.036804   \n",
       "2  0.612425            (Avg. Area Income, Avg. Area House Age)  0.039491   \n",
       "3  0.797004  (Avg. Area Income, Avg. Area House Age, Area P...  0.012392   \n",
       "4  0.917583  (Avg. Area Income, Avg. Area House Age, Avg. A...  0.003516   \n",
       "5  0.917559  (Avg. Area Income, Avg. Area House Age, Avg. A...  0.003532   \n",
       "\n",
       "    std_dev   std_err  \n",
       "1  0.028635  0.014317  \n",
       "2  0.030726  0.015363  \n",
       "3  0.009641  0.004821  \n",
       "4  0.002736  0.001368  \n",
       "5  0.002748  0.001374  "
      ]
     },
     "execution_count": 70,
     "metadata": {},
     "output_type": "execute_result"
    }
   ],
   "source": [
    "df=pd.DataFrame.from_dict(sfs.get_metric_dict()).T\n",
    "df"
   ]
  },
  {
   "cell_type": "markdown",
   "id": "dacc871a",
   "metadata": {},
   "source": [
    "<h2>Creating a new Dataframe using the features selected</h2> \n",
    "<p>Forward, backward and step-wise feature selections gave the same best features. So I have taken features selected by forward selection and created a new dataframe using them below</p>"
   ]
  },
  {
   "cell_type": "code",
   "execution_count": 71,
   "id": "b083948a",
   "metadata": {},
   "outputs": [
    {
     "name": "stdout",
     "output_type": "stream",
     "text": [
      "['Avg. Area Income', 'Avg. Area House Age', 'Avg. Area Number of Rooms', 'Area Population']\n"
     ]
    }
   ],
   "source": [
    "features=list(sfs.k_feature_names_)\n",
    "print(features)"
   ]
  },
  {
   "cell_type": "code",
   "execution_count": 72,
   "id": "2bf514df",
   "metadata": {
    "scrolled": true
   },
   "outputs": [
    {
     "name": "stderr",
     "output_type": "stream",
     "text": [
      "C:\\Users\\pyasw\\AppData\\Local\\Temp\\ipykernel_10068\\810563098.py:2: SettingWithCopyWarning: \n",
      "A value is trying to be set on a copy of a slice from a DataFrame.\n",
      "Try using .loc[row_indexer,col_indexer] = value instead\n",
      "\n",
      "See the caveats in the documentation: https://pandas.pydata.org/pandas-docs/stable/user_guide/indexing.html#returning-a-view-versus-a-copy\n",
      "  new_data['Price']=dataset['Price']\n"
     ]
    },
    {
     "data": {
      "text/html": [
       "<div>\n",
       "<style scoped>\n",
       "    .dataframe tbody tr th:only-of-type {\n",
       "        vertical-align: middle;\n",
       "    }\n",
       "\n",
       "    .dataframe tbody tr th {\n",
       "        vertical-align: top;\n",
       "    }\n",
       "\n",
       "    .dataframe thead th {\n",
       "        text-align: right;\n",
       "    }\n",
       "</style>\n",
       "<table border=\"1\" class=\"dataframe\">\n",
       "  <thead>\n",
       "    <tr style=\"text-align: right;\">\n",
       "      <th></th>\n",
       "      <th>Avg. Area Income</th>\n",
       "      <th>Avg. Area House Age</th>\n",
       "      <th>Avg. Area Number of Rooms</th>\n",
       "      <th>Area Population</th>\n",
       "      <th>Price</th>\n",
       "    </tr>\n",
       "  </thead>\n",
       "  <tbody>\n",
       "    <tr>\n",
       "      <th>0</th>\n",
       "      <td>79545.45857</td>\n",
       "      <td>5.682861</td>\n",
       "      <td>7.009188</td>\n",
       "      <td>23086.80050</td>\n",
       "      <td>1.059034e+06</td>\n",
       "    </tr>\n",
       "    <tr>\n",
       "      <th>1</th>\n",
       "      <td>79248.64245</td>\n",
       "      <td>6.002900</td>\n",
       "      <td>6.730821</td>\n",
       "      <td>40173.07217</td>\n",
       "      <td>1.505891e+06</td>\n",
       "    </tr>\n",
       "    <tr>\n",
       "      <th>2</th>\n",
       "      <td>61287.06718</td>\n",
       "      <td>5.865890</td>\n",
       "      <td>8.512727</td>\n",
       "      <td>36882.15940</td>\n",
       "      <td>1.058988e+06</td>\n",
       "    </tr>\n",
       "    <tr>\n",
       "      <th>3</th>\n",
       "      <td>63345.24005</td>\n",
       "      <td>7.188236</td>\n",
       "      <td>5.586729</td>\n",
       "      <td>34310.24283</td>\n",
       "      <td>1.260617e+06</td>\n",
       "    </tr>\n",
       "    <tr>\n",
       "      <th>4</th>\n",
       "      <td>59982.19723</td>\n",
       "      <td>5.040555</td>\n",
       "      <td>7.839388</td>\n",
       "      <td>26354.10947</td>\n",
       "      <td>6.309435e+05</td>\n",
       "    </tr>\n",
       "    <tr>\n",
       "      <th>...</th>\n",
       "      <td>...</td>\n",
       "      <td>...</td>\n",
       "      <td>...</td>\n",
       "      <td>...</td>\n",
       "      <td>...</td>\n",
       "    </tr>\n",
       "    <tr>\n",
       "      <th>4995</th>\n",
       "      <td>60567.94414</td>\n",
       "      <td>7.830362</td>\n",
       "      <td>6.137356</td>\n",
       "      <td>22837.36103</td>\n",
       "      <td>1.060194e+06</td>\n",
       "    </tr>\n",
       "    <tr>\n",
       "      <th>4996</th>\n",
       "      <td>78491.27543</td>\n",
       "      <td>6.999135</td>\n",
       "      <td>6.576763</td>\n",
       "      <td>25616.11549</td>\n",
       "      <td>1.482618e+06</td>\n",
       "    </tr>\n",
       "    <tr>\n",
       "      <th>4997</th>\n",
       "      <td>63390.68689</td>\n",
       "      <td>7.250591</td>\n",
       "      <td>4.805081</td>\n",
       "      <td>33266.14549</td>\n",
       "      <td>1.030730e+06</td>\n",
       "    </tr>\n",
       "    <tr>\n",
       "      <th>4998</th>\n",
       "      <td>68001.33124</td>\n",
       "      <td>5.534388</td>\n",
       "      <td>7.130144</td>\n",
       "      <td>42625.62016</td>\n",
       "      <td>1.198657e+06</td>\n",
       "    </tr>\n",
       "    <tr>\n",
       "      <th>4999</th>\n",
       "      <td>65510.58180</td>\n",
       "      <td>5.992305</td>\n",
       "      <td>6.792336</td>\n",
       "      <td>46501.28380</td>\n",
       "      <td>1.298950e+06</td>\n",
       "    </tr>\n",
       "  </tbody>\n",
       "</table>\n",
       "<p>5000 rows × 5 columns</p>\n",
       "</div>"
      ],
      "text/plain": [
       "      Avg. Area Income  Avg. Area House Age  Avg. Area Number of Rooms  \\\n",
       "0          79545.45857             5.682861                   7.009188   \n",
       "1          79248.64245             6.002900                   6.730821   \n",
       "2          61287.06718             5.865890                   8.512727   \n",
       "3          63345.24005             7.188236                   5.586729   \n",
       "4          59982.19723             5.040555                   7.839388   \n",
       "...                ...                  ...                        ...   \n",
       "4995       60567.94414             7.830362                   6.137356   \n",
       "4996       78491.27543             6.999135                   6.576763   \n",
       "4997       63390.68689             7.250591                   4.805081   \n",
       "4998       68001.33124             5.534388                   7.130144   \n",
       "4999       65510.58180             5.992305                   6.792336   \n",
       "\n",
       "      Area Population         Price  \n",
       "0         23086.80050  1.059034e+06  \n",
       "1         40173.07217  1.505891e+06  \n",
       "2         36882.15940  1.058988e+06  \n",
       "3         34310.24283  1.260617e+06  \n",
       "4         26354.10947  6.309435e+05  \n",
       "...               ...           ...  \n",
       "4995      22837.36103  1.060194e+06  \n",
       "4996      25616.11549  1.482618e+06  \n",
       "4997      33266.14549  1.030730e+06  \n",
       "4998      42625.62016  1.198657e+06  \n",
       "4999      46501.28380  1.298950e+06  \n",
       "\n",
       "[5000 rows x 5 columns]"
      ]
     },
     "execution_count": 72,
     "metadata": {},
     "output_type": "execute_result"
    }
   ],
   "source": [
    "new_data=dataset[features]\n",
    "new_data['Price']=dataset['Price']\n",
    "new_data"
   ]
  },
  {
   "cell_type": "markdown",
   "id": "60c69d12",
   "metadata": {},
   "source": [
    "<h2> Splitting the data into train and test </h2>"
   ]
  },
  {
   "cell_type": "code",
   "execution_count": 73,
   "id": "fc66e872",
   "metadata": {},
   "outputs": [],
   "source": [
    "X_new=new_data.drop('Price',axis=1)\n",
    "y_new=new_data['Price']"
   ]
  },
  {
   "cell_type": "code",
   "execution_count": 74,
   "id": "f94dbba3",
   "metadata": {},
   "outputs": [],
   "source": [
    "X_train,X_test,y_train,y_test=train_test_split(X_new,y_new,test_size=0.2)"
   ]
  },
  {
   "cell_type": "markdown",
   "id": "d4b4bed0",
   "metadata": {},
   "source": [
    "<h2>Linear Regression</h2>"
   ]
  },
  {
   "cell_type": "code",
   "execution_count": 75,
   "id": "14f2e411",
   "metadata": {},
   "outputs": [
    {
     "name": "stdout",
     "output_type": "stream",
     "text": [
      "R2 0.9167315121620713\n",
      "Adj R2 1.0207911070607576\n",
      "Folds:10,MSE:0.9174651433933038,STD0.00858288612039079\n"
     ]
    }
   ],
   "source": [
    "lr=LinearRegression()\n",
    "lr.fit(X_train,y_train)\n",
    "predict_lr=lr.predict(X_test)\n",
    "x=r2_score(y_test,predict_lr)\n",
    "print(\"R2\",x)\n",
    "adjusted_r2=calculate_adj_r2(x,X_test.count()[0],len(X))\n",
    "print(\"Adj R2\",adjusted_r2)\n",
    "scores=cross_val_score(lr,X_train,y_train,scoring=\"r2\",cv=crossvalidation,n_jobs=1)\n",
    "print(\"Folds:\"+str(len(scores))+\",MSE:\"+str(np.mean(np.abs(scores)))+\",STD\"+str(np.std(scores)))"
   ]
  },
  {
   "cell_type": "markdown",
   "id": "a7f09de7",
   "metadata": {},
   "source": [
    "<h2> Ridge Regression </h2>"
   ]
  },
  {
   "cell_type": "code",
   "execution_count": 76,
   "id": "dbd0aadd",
   "metadata": {},
   "outputs": [
    {
     "name": "stdout",
     "output_type": "stream",
     "text": [
      "Best Alpha 0.8699999999999996\n",
      "R2 0.9167307478025067\n",
      "Adj R2 1.020791297911846\n"
     ]
    }
   ],
   "source": [
    "model_cv=RidgeCV(alphas=np.arange(.1,1,0.01),cv=5,scoring='r2')\n",
    "model_cv.fit(X_train,y_train)\n",
    "print(\"Best Alpha\",model_cv.alpha_)\n",
    "y_pred=model_cv.predict(X_test)\n",
    "x=r2_score(y_test,y_pred)\n",
    "print(\"R2\",x)\n",
    "adjusted_r2=calculate_adj_r2(x,X_test.count()[0],len(X_new))\n",
    "print(\"Adj R2\",adjusted_r2)"
   ]
  },
  {
   "cell_type": "code",
   "execution_count": 77,
   "id": "edb677c1",
   "metadata": {},
   "outputs": [
    {
     "name": "stdout",
     "output_type": "stream",
     "text": [
      "R2 0.9167306309919092\n",
      "Adj R2 1.0207913270780011\n"
     ]
    }
   ],
   "source": [
    "ridge=Ridge()\n",
    "ridge.fit(X_train,y_train)\n",
    "predict_ridge=ridge.predict(X_test)\n",
    "x=r2_score(y_test, predict_ridge)\n",
    "print(\"R2\",x)\n",
    "adjusted_r2 = calculate_adj_r2(x, X_test.count()[0],len(X))\n",
    "print(\"Adj R2\",adjusted_r2)"
   ]
  },
  {
   "cell_type": "markdown",
   "id": "851c7f6a",
   "metadata": {},
   "source": [
    "<h2> Lasso Ridge </h2>"
   ]
  },
  {
   "cell_type": "code",
   "execution_count": 78,
   "id": "a3d53d68",
   "metadata": {},
   "outputs": [
    {
     "name": "stdout",
     "output_type": "stream",
     "text": [
      "R2 0.916731496567186\n",
      "Adj R2 1.0207911109546066\n"
     ]
    }
   ],
   "source": [
    "lasso=Lasso()\n",
    "lasso.fit(X_train,y_train)\n",
    "predict_lasso=lasso.predict(X_test)\n",
    "x=r2_score(y_test, predict_lasso)\n",
    "print(\"R2\",x)\n",
    "adjusted_r2 = calculate_adj_r2(x, X_test.count()[0],len(X))\n",
    "print(\"Adj R2\",adjusted_r2)"
   ]
  },
  {
   "cell_type": "code",
   "execution_count": 79,
   "id": "0245c710",
   "metadata": {},
   "outputs": [
    {
     "name": "stdout",
     "output_type": "stream",
     "text": [
      "R2 0.5977804470442624\n",
      "Adj R2 1.1004292260441844\n"
     ]
    }
   ],
   "source": [
    "from sklearn.linear_model import LassoCV\n",
    "model_l_cv = LassoCV(cv=5, random_state=0, max_iter=10000)\n",
    "model_l_cv.fit(X_train, y_train)\n",
    "lasso_best = Lasso(alpha=model_l_cv.alpha_)\n",
    "lasso_best.fit(X_train, y_train)\n",
    "Y_Pred=lasso_best.predict(X_test)\n",
    "\n",
    "x=r2_score(y_test, Y_Pred)\n",
    "print(\"R2\",x)\n",
    "adjusted_r2 = calculate_adj_r2(x, X_test.count()[0],len(X))\n",
    "print(\"Adj R2\",adjusted_r2)"
   ]
  },
  {
   "cell_type": "markdown",
   "id": "3a2b306a",
   "metadata": {},
   "source": [
    "<h2>Quadratic Regression</h2>"
   ]
  },
  {
   "cell_type": "code",
   "execution_count": 80,
   "id": "f8c060f4",
   "metadata": {},
   "outputs": [
    {
     "name": "stdout",
     "output_type": "stream",
     "text": [
      "R2 0.9164787540340461\n",
      "Adj R2 1.0208542176255906\n"
     ]
    }
   ],
   "source": [
    "quadratic=PolynomialFeatures(degree=2)\n",
    "quadratic_features=quadratic.fit_transform(X_train)\n",
    "quadratic.fit(quadratic_features,y_train)\n",
    "quad_model=LinearRegression()\n",
    "quad_model.fit(quadratic_features,y_train)\n",
    "predict_quad=quad_model.predict(quadratic.fit_transform(X_test))\n",
    "x=r2_score(y_test, predict_quad)\n",
    "print(\"R2\",x)\n",
    "adjusted_r2 = calculate_adj_r2(x, X_test.count()[0],len(X))\n",
    "print(\"Adj R2\",adjusted_r2)"
   ]
  },
  {
   "cell_type": "markdown",
   "id": "597eac85",
   "metadata": {},
   "source": [
    "<h2> Symbolic Regression </h2>"
   ]
  },
  {
   "cell_type": "code",
   "execution_count": 81,
   "id": "092fb055",
   "metadata": {},
   "outputs": [
    {
     "name": "stdout",
     "output_type": "stream",
     "text": [
      "    |   Population Average    |             Best Individual              |\n",
      "---- ------------------------- ------------------------------------------ ----------\n",
      " Gen   Length          Fitness   Length          Fitness      OOB Fitness  Time Left\n",
      "   0    31.03      7.86559e+45       15           188437           176523     34.98s\n",
      "   1    21.45      6.92704e+15       59           152108           151627     28.80s\n",
      "   2    26.98       1.2004e+14       43           145710           143525     23.95s\n",
      "   3    28.49      9.18168e+13       19           142170           148516     23.42s\n",
      "   4    30.67      2.11868e+20       41           132795           142975     18.87s\n",
      "   5    42.17      3.08006e+16       31           129766           132949     18.46s\n",
      "   6    37.83       1.8981e+15       23           123494           115465     11.27s\n",
      "   7    37.63      1.53277e+18       27           122870           118395      7.73s\n",
      "   8    41.58      1.05859e+19       27           122240           124060      4.18s\n",
      "   9    35.63      2.13979e+14       27           122027           125980      0.00s\n",
      "0.8080683928033738\n",
      "R2 0.8036462882436795\n",
      "Adj R2 1.049027082740456\n"
     ]
    }
   ],
   "source": [
    "symbolic = SymbolicRegressor(population_size=5000,\n",
    "                           generations=10, stopping_criteria=0.01,\n",
    "                           p_crossover=0.7, p_subtree_mutation=0.1,\n",
    "                           p_hoist_mutation=0.05, p_point_mutation=0.1,\n",
    "                           max_samples=0.9, verbose=1,\n",
    "                           parsimony_coefficient=0.01, random_state=0)\n",
    "symbolic.fit(X_train, y_train)\n",
    "score_gp = symbolic.score(X_train, y_train)\n",
    "print(score_gp)\n",
    "Y_Pred=symbolic.predict(X_test)\n",
    "x=r2_score(y_test, Y_Pred)\n",
    "print(\"R2\",x)\n",
    "adjusted_r2 = calculate_adj_r2(x, X_test.count()[0],len(X))\n",
    "print(\"Adj R2\",adjusted_r2)"
   ]
  },
  {
   "cell_type": "markdown",
   "id": "4eb0fad3",
   "metadata": {},
   "source": [
    "<h2> Symbolic Ridge Regression </h2>"
   ]
  },
  {
   "cell_type": "code",
   "execution_count": 82,
   "id": "b9c70243",
   "metadata": {},
   "outputs": [
    {
     "name": "stdout",
     "output_type": "stream",
     "text": [
      "    |   Population Average    |             Best Individual              |\n",
      "---- ------------------------- ------------------------------------------ ----------\n",
      " Gen   Length          Fitness   Length          Fitness      OOB Fitness  Time Left\n",
      "   0    13.74         0.360312       34         0.902974         0.909516     28.90s\n",
      "   1    13.87         0.594559       38         0.919293         0.915683     16.36s\n",
      "   2    23.65         0.695632       41          0.93924         0.935205     17.37s\n",
      "   3    31.92         0.781227       41         0.939725         0.930945     17.37s\n",
      "   4    32.37          0.81823       27         0.947213         0.949189     16.63s\n",
      "   5    29.03         0.813787       35         0.950309         0.951842     14.34s\n",
      "   6    25.75         0.817743       33         0.951224         0.942149     13.37s\n",
      "   7    24.17         0.831942       45         0.952459         0.948024     12.25s\n",
      "   8    22.92         0.832397       42         0.953166         0.949809     10.66s\n",
      "   9    20.62         0.847098       46         0.953221         0.945426      9.78s\n",
      "  10    20.43         0.845757       28         0.953661         0.945577     14.15s\n",
      "  11    20.63         0.838369       25         0.953299         0.938632      9.73s\n",
      "  12    20.10         0.839719       23         0.953459         0.942574      7.64s\n",
      "  13    19.16         0.837853       23           0.9534         0.944362      5.75s\n",
      "  14    18.00         0.836349       19         0.953579         0.941532      4.79s\n",
      "  15    17.01         0.840209       16         0.953634         0.941261      4.06s\n",
      "  16    16.39         0.836571       18         0.953821         0.938984      2.83s\n",
      "  17    15.55         0.834744       16         0.953668         0.938952      1.85s\n",
      "  18    15.25         0.841041       16         0.953741         0.939571      1.41s\n",
      "  19    14.47         0.831877       14         0.953783         0.938795      0.00s\n"
     ]
    },
    {
     "data": {
      "text/plain": [
       "SymbolicTransformer(function_set=['add', 'sub', 'mul', 'div', 'sqrt', 'log',\n",
       "                                  'abs', 'neg', 'inv', 'max', 'min'],\n",
       "                    max_samples=0.9, n_jobs=3, parsimony_coefficient=0.0005,\n",
       "                    population_size=2000, random_state=0, verbose=1)"
      ]
     },
     "execution_count": 82,
     "metadata": {},
     "output_type": "execute_result"
    }
   ],
   "source": [
    "function_set = ['add', 'sub', 'mul', 'div',\n",
    "                'sqrt', 'log', 'abs', 'neg', 'inv',\n",
    "                'max', 'min']\n",
    "gp = SymbolicTransformer(generations=20, population_size=2000,\n",
    "                         hall_of_fame=100, n_components=10,\n",
    "                         function_set=function_set,\n",
    "                         parsimony_coefficient=0.0005,\n",
    "                         max_samples=0.9, verbose=1,\n",
    "                         random_state=0, n_jobs=3)\n",
    "gp.fit(X_new[:6000],y_new[:6000])"
   ]
  },
  {
   "cell_type": "code",
   "execution_count": 83,
   "id": "b314f2d4",
   "metadata": {},
   "outputs": [],
   "source": [
    "\n",
    "gp_features = gp.transform(X_new)\n",
    "new_data = np.hstack((X_new, gp_features))"
   ]
  },
  {
   "cell_type": "code",
   "execution_count": 84,
   "id": "759d48fa",
   "metadata": {},
   "outputs": [
    {
     "name": "stdout",
     "output_type": "stream",
     "text": [
      "0.917592566073667\n",
      "R2 0.917592566073667\n",
      "Adj R2 1.0352838456028486\n",
      "364050.3040387565\n"
     ]
    }
   ],
   "source": [
    "est = Ridge()\n",
    "est.fit(new_data[:3500],y_new[:3500])\n",
    "print(est.score(new_data[3500:],y_new[3500:]))\n",
    "Y_Pred= est.predict(new_data[3500:])\n",
    "\n",
    "x=r2_score(y_new[3500:], Y_Pred)\n",
    "print(\"R2\",x)\n",
    "adjusted_r2 = calculate_adj_r2(x, len(new_data[3500:]),len(X))\n",
    "print(\"Adj R2\",adjusted_r2)\n",
    "print(max_error(y_new[3500:], Y_Pred))"
   ]
  },
  {
   "cell_type": "markdown",
   "id": "12dbc43a",
   "metadata": {},
   "source": [
    "<h2> Symbolic Lasso Ridge </h2>"
   ]
  },
  {
   "cell_type": "code",
   "execution_count": 85,
   "id": "c8fbaf3a",
   "metadata": {},
   "outputs": [
    {
     "name": "stdout",
     "output_type": "stream",
     "text": [
      "0.917599121082713\n",
      "R2 0.917599121082713\n",
      "Adj R2 1.0352810389880072\n",
      "365772.8035074114\n"
     ]
    },
    {
     "name": "stderr",
     "output_type": "stream",
     "text": [
      "C:\\Users\\pyasw\\AppData\\Local\\Programs\\Python\\Python39\\lib\\site-packages\\sklearn\\linear_model\\_coordinate_descent.py:647: ConvergenceWarning: Objective did not converge. You might want to increase the number of iterations, check the scale of the features or consider increasing regularisation. Duality gap: 1.646e+13, tolerance: 4.373e+10\n",
      "  model = cd_fast.enet_coordinate_descent(\n"
     ]
    }
   ],
   "source": [
    "est = Lasso()\n",
    "est.fit(new_data[:3500],y_new[:3500])\n",
    "print(est.score(new_data[3500:],y_new[3500:]))\n",
    "Y_Pred= est.predict(new_data[3500:])\n",
    "\n",
    "x=r2_score(y_new[3500:], Y_Pred)\n",
    "print(\"R2\",x)\n",
    "adjusted_r2 = calculate_adj_r2(x, len(new_data[3500:]),len(X))\n",
    "print(\"Adj R2\",adjusted_r2)\n",
    "print(max_error(y_new[3500:], Y_Pred))"
   ]
  },
  {
   "cell_type": "code",
   "execution_count": null,
   "id": "2aba4180",
   "metadata": {},
   "outputs": [],
   "source": []
  }
 ],
 "metadata": {
  "kernelspec": {
   "display_name": "Python 3 (ipykernel)",
   "language": "python",
   "name": "python3"
  },
  "language_info": {
   "codemirror_mode": {
    "name": "ipython",
    "version": 3
   },
   "file_extension": ".py",
   "mimetype": "text/x-python",
   "name": "python",
   "nbconvert_exporter": "python",
   "pygments_lexer": "ipython3",
   "version": "3.9.10"
  }
 },
 "nbformat": 4,
 "nbformat_minor": 5
}
